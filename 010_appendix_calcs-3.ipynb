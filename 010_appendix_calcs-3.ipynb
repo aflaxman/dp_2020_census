{
 "cells": [
  {
   "cell_type": "code",
   "execution_count": 1,
   "metadata": {},
   "outputs": [
    {
     "name": "stdout",
     "output_type": "stream",
     "text": [
      "Sat Mar  7 20:51:54 PST 2020\r\n"
     ]
    }
   ],
   "source": [
    "import numpy as np, matplotlib.pyplot as plt, pandas as pd\n",
    "pd.set_option('display.max_rows', 16)\n",
    "!date\n",
    "\n",
    "%load_ext autoreload\n",
    "%autoreload 2"
   ]
  },
  {
   "cell_type": "markdown",
   "metadata": {},
   "source": [
    "# Supplementary Appendix Calcs for Census DP E2E Paper (part 2)\n",
    "\n",
    "TopDown includes invariants, which are a feature that goes beyond the traditional formulation of epsilon-DP. As a final example, we consider how an invariant can produce an EPL that is greater than the privacy loss budget epsilon that is formally proven for the algorithm without invariants. To achieve this, we revert to the original example of stratified counts with geometrically distributed variation added to achieve epsilon-DP, and to this we add invariants at the enumeration district level.  We then use the same optimization formulated in the previous example, but with equality constraints for the total counts of each enumeration district instaead of additional terms in the objective function. [[optimization]]  This shows that EPL can be larger than epsilon when the presence of the invariant is substantially compromising the privacy of the algorithm. [[table X shows the epsilon and EPL for a range of values.]]"
   ]
  },
  {
   "cell_type": "code",
   "execution_count": 2,
   "metadata": {},
   "outputs": [],
   "source": [
    "import dp_2020_census.data, dp_2020_census.model"
   ]
  },
  {
   "cell_type": "code",
   "execution_count": 3,
   "metadata": {},
   "outputs": [],
   "source": [
    "df_orig = dp_2020_census.data.load_orig_counts()"
   ]
  },
  {
   "cell_type": "code",
   "execution_count": 4,
   "metadata": {},
   "outputs": [
    {
     "data": {
      "text/html": [
       "<div>\n",
       "<style scoped>\n",
       "    .dataframe tbody tr th:only-of-type {\n",
       "        vertical-align: middle;\n",
       "    }\n",
       "\n",
       "    .dataframe tbody tr th {\n",
       "        vertical-align: top;\n",
       "    }\n",
       "\n",
       "    .dataframe thead th {\n",
       "        text-align: right;\n",
       "    }\n",
       "</style>\n",
       "<table border=\"1\" class=\"dataframe\">\n",
       "  <thead>\n",
       "    <tr style=\"text-align: right;\">\n",
       "      <th></th>\n",
       "      <th>state</th>\n",
       "      <th>county</th>\n",
       "      <th>enum_dist</th>\n",
       "      <th>gq</th>\n",
       "      <th>age</th>\n",
       "      <th>race</th>\n",
       "      <th>eth</th>\n",
       "      <th>count</th>\n",
       "    </tr>\n",
       "  </thead>\n",
       "  <tbody>\n",
       "    <tr>\n",
       "      <th>0</th>\n",
       "      <td>2</td>\n",
       "      <td>3000</td>\n",
       "      <td>10</td>\n",
       "      <td>1</td>\n",
       "      <td>18</td>\n",
       "      <td>1</td>\n",
       "      <td>1</td>\n",
       "      <td>85</td>\n",
       "    </tr>\n",
       "    <tr>\n",
       "      <th>1</th>\n",
       "      <td>2</td>\n",
       "      <td>3000</td>\n",
       "      <td>10</td>\n",
       "      <td>1</td>\n",
       "      <td>17</td>\n",
       "      <td>1</td>\n",
       "      <td>1</td>\n",
       "      <td>7</td>\n",
       "    </tr>\n",
       "    <tr>\n",
       "      <th>2</th>\n",
       "      <td>2</td>\n",
       "      <td>3000</td>\n",
       "      <td>10</td>\n",
       "      <td>1</td>\n",
       "      <td>18</td>\n",
       "      <td>2</td>\n",
       "      <td>1</td>\n",
       "      <td>1</td>\n",
       "    </tr>\n",
       "    <tr>\n",
       "      <th>3</th>\n",
       "      <td>2</td>\n",
       "      <td>3000</td>\n",
       "      <td>10</td>\n",
       "      <td>1</td>\n",
       "      <td>18</td>\n",
       "      <td>3</td>\n",
       "      <td>1</td>\n",
       "      <td>1</td>\n",
       "    </tr>\n",
       "    <tr>\n",
       "      <th>4</th>\n",
       "      <td>2</td>\n",
       "      <td>3000</td>\n",
       "      <td>10</td>\n",
       "      <td>1</td>\n",
       "      <td>17</td>\n",
       "      <td>3</td>\n",
       "      <td>1</td>\n",
       "      <td>3</td>\n",
       "    </tr>\n",
       "    <tr>\n",
       "      <th>...</th>\n",
       "      <td>...</td>\n",
       "      <td>...</td>\n",
       "      <td>...</td>\n",
       "      <td>...</td>\n",
       "      <td>...</td>\n",
       "      <td>...</td>\n",
       "      <td>...</td>\n",
       "      <td>...</td>\n",
       "    </tr>\n",
       "    <tr>\n",
       "      <th>825431</th>\n",
       "      <td>56</td>\n",
       "      <td>450</td>\n",
       "      <td>160</td>\n",
       "      <td>1</td>\n",
       "      <td>17</td>\n",
       "      <td>1</td>\n",
       "      <td>1</td>\n",
       "      <td>68</td>\n",
       "    </tr>\n",
       "    <tr>\n",
       "      <th>825432</th>\n",
       "      <td>56</td>\n",
       "      <td>450</td>\n",
       "      <td>160</td>\n",
       "      <td>1</td>\n",
       "      <td>18</td>\n",
       "      <td>1</td>\n",
       "      <td>2</td>\n",
       "      <td>1</td>\n",
       "    </tr>\n",
       "    <tr>\n",
       "      <th>825433</th>\n",
       "      <td>56</td>\n",
       "      <td>455</td>\n",
       "      <td>10</td>\n",
       "      <td>1</td>\n",
       "      <td>18</td>\n",
       "      <td>1</td>\n",
       "      <td>1</td>\n",
       "      <td>325</td>\n",
       "    </tr>\n",
       "    <tr>\n",
       "      <th>825434</th>\n",
       "      <td>56</td>\n",
       "      <td>455</td>\n",
       "      <td>10</td>\n",
       "      <td>1</td>\n",
       "      <td>17</td>\n",
       "      <td>1</td>\n",
       "      <td>1</td>\n",
       "      <td>87</td>\n",
       "    </tr>\n",
       "    <tr>\n",
       "      <th>825435</th>\n",
       "      <td>56</td>\n",
       "      <td>455</td>\n",
       "      <td>10</td>\n",
       "      <td>6</td>\n",
       "      <td>18</td>\n",
       "      <td>1</td>\n",
       "      <td>1</td>\n",
       "      <td>4</td>\n",
       "    </tr>\n",
       "  </tbody>\n",
       "</table>\n",
       "<p>825436 rows × 8 columns</p>\n",
       "</div>"
      ],
      "text/plain": [
       "        state  county  enum_dist  gq  age  race  eth  count\n",
       "0           2    3000         10   1   18     1    1     85\n",
       "1           2    3000         10   1   17     1    1      7\n",
       "2           2    3000         10   1   18     2    1      1\n",
       "3           2    3000         10   1   18     3    1      1\n",
       "4           2    3000         10   1   17     3    1      3\n",
       "...       ...     ...        ...  ..  ...   ...  ...    ...\n",
       "825431     56     450        160   1   17     1    1     68\n",
       "825432     56     450        160   1   18     1    2      1\n",
       "825433     56     455         10   1   18     1    1    325\n",
       "825434     56     455         10   1   17     1    1     87\n",
       "825435     56     455         10   6   18     1    1      4\n",
       "\n",
       "[825436 rows x 8 columns]"
      ]
     },
     "execution_count": 4,
     "metadata": {},
     "output_type": "execute_result"
    }
   ],
   "source": [
    "df_orig"
   ]
  },
  {
   "cell_type": "code",
   "execution_count": 5,
   "metadata": {},
   "outputs": [
    {
     "data": {
      "text/plain": [
       "state  county  enum_dist\n",
       "53     10      10            348\n",
       "               20            227\n",
       "               30             79\n",
       "               40            121\n",
       "               50            181\n",
       "                            ... \n",
       "       770     1330         1642\n",
       "               1340         1157\n",
       "               1350         1378\n",
       "               1360          145\n",
       "               1370          415\n",
       "Name: count, Length: 2663, dtype: int64"
      ]
     },
     "execution_count": 5,
     "metadata": {},
     "output_type": "execute_result"
    }
   ],
   "source": [
    "total_cnt_orig = df_orig[(df_orig.state == 53)].groupby(['state', 'county', 'enum_dist'])['count'].sum()\n",
    "total_cnt_orig"
   ]
  },
  {
   "cell_type": "code",
   "execution_count": 6,
   "metadata": {},
   "outputs": [],
   "source": [
    "county_total_cnt = df_orig[(df_orig.state == 53)].groupby(['state', 'county'])['count'].sum()"
   ]
  },
  {
   "cell_type": "code",
   "execution_count": 7,
   "metadata": {},
   "outputs": [],
   "source": [
    "stratification_cols = ['state', 'age', 'race', 'eth']\n",
    "col_vals = []\n",
    "for col in stratification_cols:\n",
    "    col_vals.append(df_orig[(df_orig.state == 53)][col].unique())"
   ]
  },
  {
   "cell_type": "code",
   "execution_count": 8,
   "metadata": {},
   "outputs": [
    {
     "data": {
      "text/plain": [
       "[array([53]), array([18, 17]), array([1, 5, 2, 6, 3, 4]), array([1, 2])]"
      ]
     },
     "execution_count": 8,
     "metadata": {},
     "output_type": "execute_result"
    }
   ],
   "source": [
    "col_vals"
   ]
  },
  {
   "cell_type": "code",
   "execution_count": 9,
   "metadata": {},
   "outputs": [
    {
     "data": {
      "text/plain": [
       "(9869, 7)"
      ]
     },
     "execution_count": 9,
     "metadata": {},
     "output_type": "execute_result"
    }
   ],
   "source": [
    "t = df_orig[(df_orig.state == 53)].groupby(['state', 'county', 'enum_dist', 'age', 'race', 'eth'])['count'].sum().reset_index()\n",
    "t.shape"
   ]
  },
  {
   "cell_type": "code",
   "execution_count": 10,
   "metadata": {},
   "outputs": [
    {
     "data": {
      "text/plain": [
       "(63912,)"
      ]
     },
     "execution_count": 10,
     "metadata": {},
     "output_type": "execute_result"
    }
   ],
   "source": [
    "t = pd.merge(total_cnt_orig.reset_index(),\n",
    "             pd.Series(0, index=pd.MultiIndex.from_product(col_vals, names=stratification_cols)).reset_index(),\n",
    "             on='state', how='outer')\n",
    "all_zeros = t.groupby(['state', 'county', 'enum_dist', 'age', 'race', 'eth'])[0].sum()\n",
    "all_zeros.shape"
   ]
  },
  {
   "cell_type": "code",
   "execution_count": 11,
   "metadata": {},
   "outputs": [
    {
     "data": {
      "text/plain": [
       "(63912,)"
      ]
     },
     "execution_count": 11,
     "metadata": {},
     "output_type": "execute_result"
    }
   ],
   "source": [
    "strat_cnt_orig = df_orig[(df_orig.state == 53)].groupby(['state', 'county', 'enum_dist', 'age', 'race', 'eth'])['count'].sum()\n",
    "strat_cnt_orig = strat_cnt_orig.add(all_zeros, fill_value=0)\n",
    "strat_cnt_orig.shape"
   ]
  },
  {
   "cell_type": "code",
   "execution_count": 12,
   "metadata": {},
   "outputs": [],
   "source": [
    "# set randoms seed for reproducibility\n",
    "np.random.seed(12345)"
   ]
  },
  {
   "cell_type": "code",
   "execution_count": 13,
   "metadata": {},
   "outputs": [
    {
     "data": {
      "text/plain": [
       "state  county  enum_dist  age  race  eth\n",
       "53     10      10         17   1     1      157.0\n",
       "                                     2       -4.0\n",
       "                               2     1      -23.0\n",
       "                                     2      -13.0\n",
       "                               3     1        1.0\n",
       "                                            ...  \n",
       "       770     1370       18   4     2        0.0\n",
       "                               5     1       -4.0\n",
       "                                     2       -4.0\n",
       "                               6     1       17.0\n",
       "                                     2        1.0\n",
       "Length: 63912, dtype: float64"
      ]
     },
     "execution_count": 13,
     "metadata": {},
     "output_type": "execute_result"
    }
   ],
   "source": [
    "epsilon = 0.25\n",
    "strat_cnt_gdpc = dp_2020_census.model.GDPC(epsilon/2, strat_cnt_orig)\n",
    "strat_cnt_gdpc"
   ]
  },
  {
   "cell_type": "code",
   "execution_count": 14,
   "metadata": {},
   "outputs": [],
   "source": [
    "import pyomo.environ\n",
    "from pyomo.core import *\n",
    "from pyomo.opt import SolverFactory"
   ]
  },
  {
   "cell_type": "code",
   "execution_count": 19,
   "metadata": {},
   "outputs": [
    {
     "name": "stdout",
     "output_type": "stream",
     "text": [
      "Ipopt 3.12.13: \n",
      "\n",
      "******************************************************************************\n",
      "This program contains Ipopt, a library for large-scale nonlinear optimization.\n",
      " Ipopt is released as open source code under the Eclipse Public License (EPL).\n",
      "         For more information visit http://projects.coin-or.org/Ipopt\n",
      "******************************************************************************\n",
      "\n",
      "This is Ipopt version 3.12.13, running with linear solver mumps.\n",
      "NOTE: Other linear solvers might be more efficient (see Ipopt documentation).\n",
      "\n",
      "Number of nonzeros in equality constraint Jacobian...:        0\n",
      "Number of nonzeros in inequality constraint Jacobian.:        0\n",
      "Number of nonzeros in Lagrangian Hessian.............:   228628\n",
      "\n",
      "Total number of variables............................:     1000\n",
      "                     variables with only lower bounds:     1000\n",
      "                variables with lower and upper bounds:        0\n",
      "                     variables with only upper bounds:        0\n",
      "Total number of equality constraints.................:        0\n",
      "Total number of inequality constraints...............:        0\n",
      "        inequality constraints with only lower bounds:        0\n",
      "   inequality constraints with lower and upper bounds:        0\n",
      "        inequality constraints with only upper bounds:        0\n",
      "\n",
      "iter    objective    inf_pr   inf_du lg(mu)  ||d||  lg(rg) alpha_du alpha_pr  ls\n",
      "   0  2.5678756e+10 0.00e+00 1.01e+02  -1.0 0.00e+00    -  0.00e+00 0.00e+00   0\n",
      "   1  2.4622408e+10 0.00e+00 9.94e+01  -1.0 1.09e+00    -  9.86e-03 1.00e+00f  1\n",
      "   2  1.8067346e+08 0.00e+00 8.04e+00  -1.0 1.91e+02    -  5.99e-03 1.00e+00f  1\n",
      "   3  6.9771631e+06 0.00e+00 1.50e-01  -1.0 2.64e+02    -  7.37e-01 1.00e+00f  1\n",
      "   4  6.1098192e+06 0.00e+00 6.59e-02  -1.0 3.34e+02    -  8.24e-02 1.00e+00f  1\n",
      "   5  5.2027461e+06 0.00e+00 3.75e-02  -1.0 3.33e+02    -  4.10e-01 1.00e+00f  1\n",
      "   6  3.8765186e+06 0.00e+00 2.86e-02  -1.7 2.51e+02    -  2.78e-01 1.00e+00f  1\n",
      "   7  3.0718210e+06 0.00e+00 1.57e-02  -1.7 2.46e+02    -  3.74e-01 1.00e+00f  1\n",
      "   8  2.7134699e+06 0.00e+00 9.70e-03  -1.7 1.18e+02    -  4.52e-01 1.00e+00f  1\n",
      "   9  2.4001006e+06 0.00e+00 6.09e-03  -2.5 9.04e+01    -  4.74e-01 1.00e+00f  1\n",
      "iter    objective    inf_pr   inf_du lg(mu)  ||d||  lg(rg) alpha_du alpha_pr  ls\n",
      "  10  2.2459900e+06 0.00e+00 3.23e-03  -2.5 5.28e+01    -  5.37e-01 1.00e+00f  1\n",
      "  11  2.1761737e+06 0.00e+00 1.71e-03  -2.5 3.11e+01    -  5.81e-01 1.00e+00f  1\n",
      "  12  2.1310995e+06 0.00e+00 1.17e-03  -3.8 2.10e+01    -  5.56e-01 1.00e+00f  1\n",
      "  13  2.1112331e+06 0.00e+00 6.42e-04  -3.8 1.19e+01    -  6.00e-01 1.00e+00f  1\n",
      "  14  2.1015832e+06 0.00e+00 2.77e-04  -3.8 6.28e+00    -  6.78e-01 1.00e+00f  1\n",
      "  15  2.0960826e+06 0.00e+00 1.39e-04  -5.7 3.31e+00    -  6.92e-01 1.00e+00f  1\n",
      "  16  2.0943536e+06 0.00e+00 4.68e-05  -5.7 1.36e+00    -  7.85e-01 1.00e+00f  1\n",
      "  17  2.0939594e+06 0.00e+00 8.85e-06  -5.7 4.70e-01    -  9.00e-01 1.00e+00f  1\n",
      "  18  2.0939044e+06 0.00e+00 1.85e-11  -5.7 2.09e-01    -  1.00e+00 1.00e+00f  1\n",
      "  19  2.0938669e+06 0.00e+00 1.59e-07  -8.6 1.43e-01    -  9.89e-01 1.00e+00f  1\n",
      "iter    objective    inf_pr   inf_du lg(mu)  ||d||  lg(rg) alpha_du alpha_pr  ls\n",
      "  20  2.0938663e+06 0.00e+00 1.44e-13  -8.6 7.53e-02    -  1.00e+00 1.00e+00f  1\n",
      "  21  2.0938663e+06 0.00e+00 7.61e-14  -8.6 3.69e-02    -  1.00e+00 1.00e+00f  1\n",
      "  22  2.0938663e+06 0.00e+00 1.97e-13  -8.6 1.74e-02    -  1.00e+00 1.00e+00f  1\n",
      "  23  2.0938663e+06 0.00e+00 1.23e-13  -8.6 6.96e-03    -  1.00e+00 1.00e+00f  1\n",
      "  24  2.0938662e+06 0.00e+00 1.32e-13  -9.4 2.43e-03    -  1.00e+00 1.00e+00f  1\n",
      "\n",
      "Number of Iterations....: 24\n",
      "\n",
      "                                   (scaled)                 (unscaled)\n",
      "Objective...............:   8.6496163146235688e+01    2.0938662489020778e+06\n",
      "Dual infeasibility......:   1.3185995399214709e-13    3.1920156594593796e-09\n",
      "Constraint violation....:   0.0000000000000000e+00    0.0000000000000000e+00\n",
      "Complementarity.........:   9.0796148310156252e-10    2.1979586557559045e-05\n",
      "Overall NLP error.......:   9.0796148310156252e-10    2.1979586557559045e-05\n",
      "\n",
      "\n",
      "Number of objective function evaluations             = 25\n",
      "Number of objective gradient evaluations             = 25\n",
      "Number of equality constraint evaluations            = 0\n",
      "Number of inequality constraint evaluations          = 0\n",
      "Number of equality constraint Jacobian evaluations   = 0\n",
      "Number of inequality constraint Jacobian evaluations = 0\n",
      "Number of Lagrangian Hessian evaluations             = 24\n",
      "Total CPU secs in IPOPT (w/o function evaluations)   =     39.512\n",
      "Total CPU secs in NLP function evaluations           =      0.080\n",
      "\n",
      "EXIT: Optimal Solution Found.\n",
      "\b"
     ]
    },
    {
     "data": {
      "text/plain": [
       "array([147. ,   0. ,   0. ,   0. ,   0. ,   0. ,  10. ,   0. ,   0. ,\n",
       "         0. ,   0. ,   0. , 194. ,   0. ,   0. ,   0. ,   0. ,   0. ,\n",
       "         0. ,   0. ,   0. ,   0. ,   0. ,   0. ,  45. ,   0. ,  26. ,\n",
       "         0. ,   0. ,   0. ,   0. ,   0. ,   0. ,   0. ,   0. ,   0. ,\n",
       "       161. ,   0. ,   0. ,   0. ,   1. ,   0. ,   0. ,   0. ,   0. ,\n",
       "         0. ,   0. ,   0. ,  16. ,   0. ,   0. ,   0. ,   0. ,   0. ,\n",
       "         0. ,   0. ,   0. ,   0. ,   3. ,   0. ,  37. ,   0. ,   0. ,\n",
       "         0. ,   0. ,   0. ,   1. ,   0. ,  17. ,   0. ,   0. ,   0. ,\n",
       "        17. ,   0. ,   0. ,   0. ,   0. ,   0. ,   0. ,   6. ,   5. ,\n",
       "         0. ,   0. ,   0. ,  73. ,   0. ,   0. ,   0. ,   0. ,   0. ,\n",
       "         0. ,   0. ,   3. ,   0. ,   0. ,   6. ,  50. ,   2. ,   7. ,\n",
       "         0. ,   0. ,   0. ,   0. ,   0. ,   0. ,   0. ,   0. ,   4. ,\n",
       "       118. ,   0. ,   0. ,   0. ,   7. ,   0. ,   0. ,  13. ,   0. ,\n",
       "         0. ,   0. ,   0. ,  22. ,   0. ,   0. ,   0. ,   0. ,   0. ,\n",
       "         0. ,   0. ,   0. ,   0. ,   0. ,   0. ,  22. ,   0. ,   0. ,\n",
       "         0. ,   0. ,   0. ,   0. ,   0. ,   0. ,   0. ,   0. ,   0. ,\n",
       "        13. ,   4. ,   0. ,   0. ,   0. ,   0. ,   6. ,   0. ,   0. ,\n",
       "         0. ,   0. ,   9. ,  87. ,  13. ,   0. ,   0. ,   0. ,   0. ,\n",
       "         0. ,   0. ,   0. ,   0. ,   1. ,   1. ,   0. ,   0. ,   2. ,\n",
       "         0. ,  19. ,   0. ,   0. ,   0. ,   5. ,   2. ,   0. ,   0. ,\n",
       "        53. ,   0. ,  30. ,   0. ,   0. ,   0. ,   0. ,   0. ,   0. ,\n",
       "         0. ,   0. ,   0. ,  16. ,   0. ,   0. ,   0. ,   0. ,   0. ,\n",
       "         0. ,   0. ,   0. ,   0. ,   0. ,   1. ,  69. ,   0. ,   0. ,\n",
       "         0. ,   0. ,   0. ,   0. ,   0. ,   0. ,   0. ,   0. ,   0. ,\n",
       "        52. ,   0. ,   0. ,   0. ,   0. ,   0. ,   0. ,   0. ,   0. ,\n",
       "         0. ,   0. ,   0. , 151. ,   0. ,   0. ,   0. ,   0. ,   0. ,\n",
       "         0. ,   0. ,   0. ,   0. ,   0. ,   0. , 197. ,   0. ,   0. ,\n",
       "         0. ,   0. ,   0. ,   0. ,   0. ,   0. ,   0. ,   0. ,   0. ,\n",
       "       460. ,   0. ,   0. ,   0. ,   0. ,   0. ,   0. ,   0. ,   0. ,\n",
       "         0. ,   0. ,   0. ,   6. ,   0. ,   0. ,   0. ,   0. ,   0. ,\n",
       "         0. ,   0. ,   0. ,   0. ,   0. ,   0. ,  21. ,   7. ,   3. ,\n",
       "         0. ,   0. ,   0. ,   0. ,   0. ,   0. ,   0. ,   0. ,   0. ,\n",
       "        81. ,   0. ,   0. ,   0. ,   0. ,   0. ,   0. ,   0. ,  45. ,\n",
       "         0. ,   0. ,   0. , 219. ,   1. ,   0. ,   0. ,   0. ,   5. ,\n",
       "         0. ,   3. ,  13. ,   0. ,   0. ,   0. ,  35. ,   0. ,   0. ,\n",
       "         0. ,   6. ,   0. ,   0. ,   0. ,   0. ,   0. ,   0. ,   0. ,\n",
       "        35. ,   0. ,   0. ,   0. ,   0. ,   0. ,   2. ,   0. ,   0. ,\n",
       "         0. ,   0. ,   6. ,  31. ,   0. ,   0. ,   0. ,   0. ,   0. ,\n",
       "         0. ,   0. ,   0. ,   0. ,   0. ,   0. ,  73. ,   0. ,   0. ,\n",
       "        20. ,   0. ,   0. ,   0. ,   0. ,   0. ,   0. ,   1. ,   0. ,\n",
       "       110. ,   0. ,   0. ,   0. ,   0. ,   0. ,   4. ,   0. ,   0. ,\n",
       "         0. ,   0. ,   0. , 406. ,   0. ,   0. ,   0. ,   0. ,   0. ,\n",
       "         0. ,   0. ,   0. ,   0. ,   4. ,   0. , 113. ,  22. ,   0. ,\n",
       "         0. ,   0. ,   0. ,   0. ,   0. ,  10. ,   0. ,   0. ,   0. ,\n",
       "       297. ,   0. ,   0. ,   0. ,   1. ,   0. ,   0. ,   0. ,   0. ,\n",
       "         0. ,   0. ,   0. , 159. ,   0. ,   0. ,   0. ,   0. ,   0. ,\n",
       "         0. ,   0. ,   0. ,   0. ,   0. ,   0. , 487. ,   0. ,   8. ,\n",
       "         2. ,   0. ,   0. ,   0. ,   0. ,   0. ,   0. ,   0. ,   0. ,\n",
       "       139. ,   0. ,   0. ,   0. ,   0. ,   0. ,   0. ,   0. ,   0. ,\n",
       "         0. ,   0. ,   8. , 496. ,   0. ,   0. ,   0. ,   0. ,   0. ,\n",
       "         0. ,   0. ,   0. ,   0. ,   0. ,   0. ,  32. ,   0. ,   0. ,\n",
       "         0. ,   0. ,   0. ,   0. ,   0. ,   0. ,   0. ,   0. ,   6. ,\n",
       "        61. ,   0. ,   0. ,   0. ,   8. ,   0. ,   0. ,   0. ,   0. ,\n",
       "         0. ,   0. ,   0. ,  88. ,   0. ,   0. ,   0. ,   0. ,   0. ,\n",
       "         0. ,   0. ,   0. ,   0. ,   0. ,  13. , 213. ,   1. ,   0. ,\n",
       "        10. ,   0. ,  12. ,   0. ,   0. ,   0. ,   0. ,   0. ,   0. ,\n",
       "        78. ,   0. ,   0. ,   0. ,   0. ,   0. ,   0. ,   0. ,   0. ,\n",
       "         0. ,  20. ,   0. , 189. ,   0. ,   0. ,   0. ,   0. ,   0. ,\n",
       "         0. ,   0. ,   0. ,   0. ,   0. ,   0. , 141. ,   0. ,   1. ,\n",
       "         0. ,   0. ,   0. ,   0. ,   0. ,   0. ,   0. ,   0. ,   9. ,\n",
       "       257. ,   0. ,   0. ,   0. ,   0. ,   0. ,   0. ,   0. ,   0. ,\n",
       "         0. ,   0. ,   0. , 178. ,   0. ,   4. ,   0. ,   0. ,   0. ,\n",
       "         0. ,   0. ,   0. ,   0. ,   0. ,   0. , 394. ,   7. ,   0. ,\n",
       "         2. ,   0. ,   0. ,   0. ,   0. ,   0. ,   1. ,   0. ,   0. ,\n",
       "       217. ,   0. ,   0. ,   0. ,   0. ,   0. ,   0. ,   0. ,   0. ,\n",
       "         0. ,   0. ,   0. , 451. ,   0. ,   0. ,   0. ,   0. ,   0. ,\n",
       "         0. ,   0. ,   0. ,   0. ,   0. ,   0. ,   2. ,   0. ,   8. ,\n",
       "         0. ,   0. ,   0. ,   0. ,   0. ,   0. ,   0. ,   0. ,   0. ,\n",
       "         4. ,   0. ,   0. ,   0. ,  18. ,   0. ,   0. ,   0. ,   0. ,\n",
       "         0. ,   0. ,   0. , 190. ,   0. ,   0. ,   2. ,   0. ,   9. ,\n",
       "         3. ,   0. ,   0. ,   0. ,   0. ,   6. , 542. ,   0. ,   0. ,\n",
       "         0. ,   0. ,   0. ,   0. ,   1. ,   0. ,   0. ,   0. ,   2. ,\n",
       "       220. ,   6. ,   0. ,   0. ,   0. ,   0. ,   0. ,   0. ,   3. ,\n",
       "         1. ,   0. ,   4. , 545. ,   0. ,   0. ,   0. ,   0. ,   0. ,\n",
       "         0. ,   0. ,   0. ,   0. ,   0. ,   0. , 252. ,   0. ,  10. ,\n",
       "        11. ,  17. ,   0. ,   0. ,   0. ,   0. ,  22. ,   0. ,   0. ,\n",
       "       559. ,   0. ,   0. ,   0. ,   0. ,   0. ,   0. ,   0. ,   0. ,\n",
       "        24. ,   6. ,  10. , 189. ,   0. ,   0. ,   0. ,   0. ,   0. ,\n",
       "        22. ,   0. ,   0. ,   0. ,   1. ,   0. , 540. ,   0. ,   0. ,\n",
       "         0. ,  19. ,   0. ,   0. ,   0. ,   0. ,   0. ,   8. ,   0. ,\n",
       "       214. ,   0. ,   0. ,   0. ,   0. ,   0. ,   0. ,   0. ,   0. ,\n",
       "         0. ,   0. ,   0. , 448. ,  11. ,   0. ,   0. ,   0. ,   0. ,\n",
       "         0. ,   0. ,   0. ,   0. ,   0. ,   0. ,  31. ,   0. ,   0. ,\n",
       "         0. ,   0. ,   0. ,   0. ,   0. ,   0. ,   0. ,   0. ,   0. ,\n",
       "        88. ,   5. ,   0. ,   0. ,   0. ,   0. ,   6. ,   0. ,   0. ,\n",
       "         0. ,   0. ,   0. ,  16. ,   0. ,   0. ,   0. ,   0. ,   0. ,\n",
       "         0. ,   0. ,   1. ,   0. ,   0. ,   0. ,  29. ,   0. ,   0. ,\n",
       "         0. ,   0. ,   0. ,   5. ,   0. ,   0. ,   0. ,   9. ,  15. ,\n",
       "        15. ,   0. ,   0. ,   0. ,   0. ,   0. ,   0. ,   0. ,   0. ,\n",
       "         0. ,   1. ,   0. ,  22. ,   0. ,   0. ,   0. ,   0. ,   1. ,\n",
       "         0. ,   0. ,   0. ,   4. ,   0. ,   0. , 200. ,   0. ,   0. ,\n",
       "         0. ,   0. ,   0. ,   7. ,   0. ,   0. ,   0. ,   0. ,   0. ,\n",
       "       478. ,   0. ,   0. ,   0. ,   0. ,   0. ,   0. ,   0. ,   0. ,\n",
       "         0. ,  13. ,   0. , 196. ,   0. ,   0. ,   0. ,   0. ,   0. ,\n",
       "         0. ,   0. ,   2. ,   0. ,   0. ,   0. , 377. ,   0. ,   0. ,\n",
       "         0. ,   0. ,   0. ,   4. ,   0. ,   0. ,   0. ,   0. ,   0. ,\n",
       "        93. ,   0. ,   0. ,   0. ,   0. ,   0. ,   5. ,   0. ,   0. ,\n",
       "         6. ,   0. ,   0. , 179. ,   0. ,   0. ,   0. ,   0. ,   0. ,\n",
       "         0. ,   0. ,   0. ,   0. ,   0. ,  13. , 396. ,   4. ,   0. ,\n",
       "         2. ,   0. ,   0. ,   0. ,   0. ,   0. ,   0. ,   0. ,   0. ,\n",
       "       816. ,   0. ,   0. ,   0. ,   0. ,   4. ,   0. ,   0. ,   0. ,\n",
       "         0. ,   0. ,   0. ,  60. ,   0. ,   0. ,   0. ,   0. ,   0. ,\n",
       "         0. ,   0. ,   0. ,   0. ,   0. ,   0. , 149. ,   0. ,  26. ,\n",
       "         0. ,   0. ,   3. ,   0. ,   0. ,   0. ,   0. ,   0. ,   0. ,\n",
       "       363.5, 206.5, 180.5, 193.5, 178.5, 182.5, 178.5, 156.5, 180.5,\n",
       "       180.5, 170.5, 176.5, 458.5, 177.5, 175.5, 197.5, 156.5, 187.5,\n",
       "       182.5, 169.5, 184.5, 166.5, 181.5, 179.5, 192.5, 173.5, 175.5,\n",
       "       195.5, 172.5, 177.5, 200.5, 188.5, 163.5, 167.5, 169.5, 177.5,\n",
       "       246.5, 188.5, 173.5, 180.5, 177.5, 169.5, 176.5, 157.5, 227.5,\n",
       "       167.5, 188.5, 183.5, 220.5, 173.5, 176.5, 175.5, 169.5, 172.5,\n",
       "       160.5, 176.5, 163.5, 188.5, 201.5, 166.5, 250.5, 194.5, 175.5,\n",
       "       178.5])"
      ]
     },
     "execution_count": 19,
     "metadata": {},
     "output_type": "execute_result"
    }
   ],
   "source": [
    "def nonneg_optimized_counts(total_counts, strat_counts):\n",
    "    \"\"\"optimize the stratified counts so that they are consistent with the enum_dist total and are non-negative\n",
    "    \n",
    "    Parameters\n",
    "    ----------\n",
    "    total_counts : pd.Series of floats\n",
    "    strat_counts : pd.Series of floats\n",
    "    \n",
    "    Results\n",
    "    -------\n",
    "    returns optimized_total_counts, where noisy counts are optimized\n",
    "    to be very close to total and also close to stratified counts and not be negative\n",
    "    \"\"\"\n",
    "    \n",
    "    model = ConcreteModel()\n",
    "    model.I = range(len(strat_counts))\n",
    "\n",
    "    model.x = Var(model.I, within=NonNegativeReals, initialize=0)\n",
    "    \n",
    "    model.tc = []\n",
    "    obj_expr_list = []\n",
    "    for i, df_i in strat_counts.reset_index().groupby(['state', 'county']):\n",
    "        model.tc.append(sum(model.x[ii] for ii in df_i.index))\n",
    "        obj_expr_list.append(100*(sum(model.x[ii] for ii in df_i.index) - total_counts[i])**2)\n",
    "        for ii in df_i.index:\n",
    "            obj_expr_list.append((model.x[ii] - strat_counts.iloc[ii])**2)\n",
    "    model.objective = Objective(expr = sum(obj_expr_list))\n",
    "    \n",
    "    solver = SolverFactory('ipopt')\n",
    "    options = {#'acceptable_tol':.01, # https://www.coin-or.org/Bonmin/option_pages/options_list_ipopt.html\n",
    "#                'resto_failure_feasibility_threshold': 1e-3,\n",
    "#                'bound_push':1e-9,  # from https://list.coin-or.org/pipermail/ipopt/2013-April/003319.html\n",
    "#                'bound_frac':1e-9, # as above\n",
    "#                'report_mininfeas_solution': 'yes', # from http://citeseerx.ist.psu.edu/viewdoc/download?doi=10.1.1.589.5002&rep=rep1&type=pdf\n",
    "              }\n",
    "    results = solver.solve(model, options=options, tee=True)\n",
    "    optimized_counts = np.array([value(model.x[i]) for i in model.I])\n",
    "        \n",
    "    return optimized_counts\n",
    "np.round(nonneg_optimized_counts(county_total_cnt, strat_cnt_gdpc.iloc[:1_000]),1)"
   ]
  },
  {
   "cell_type": "code",
   "execution_count": 20,
   "metadata": {},
   "outputs": [
    {
     "name": "stdout",
     "output_type": "stream",
     "text": [
      "Ipopt 3.12.13: \n",
      "\n",
      "******************************************************************************\n",
      "This program contains Ipopt, a library for large-scale nonlinear optimization.\n",
      " Ipopt is released as open source code under the Eclipse Public License (EPL).\n",
      "         For more information visit http://projects.coin-or.org/Ipopt\n",
      "******************************************************************************\n",
      "\n",
      "This is Ipopt version 3.12.13, running with linear solver mumps.\n",
      "NOTE: Other linear solvers might be more efficient (see Ipopt documentation).\n",
      "\n",
      "Number of nonzeros in equality constraint Jacobian...:        0\n",
      "Number of nonzeros in inequality constraint Jacobian.:        0\n",
      "Number of nonzeros in Lagrangian Hessian.............:101253876\n",
      "\n",
      "Total number of variables............................:    63912\n",
      "                     variables with only lower bounds:    63912\n",
      "                variables with lower and upper bounds:        0\n",
      "                     variables with only upper bounds:        0\n",
      "Total number of equality constraints.................:        0\n",
      "Total number of inequality constraints...............:        0\n",
      "        inequality constraints with only lower bounds:        0\n",
      "   inequality constraints with lower and upper bounds:        0\n",
      "        inequality constraints with only upper bounds:        0\n",
      "\n",
      "iter    objective    inf_pr   inf_du lg(mu)  ||d||  lg(rg) alpha_du alpha_pr  ls\n",
      "   0  3.5809837e+13 0.00e+00 1.01e+02  -1.0 0.00e+00    -  0.00e+00 0.00e+00   0\n",
      "   1  3.4620388e+13 0.00e+00 9.80e+01  -1.0 1.08e+00    -  1.00e-02 1.00e+00f  1\n",
      "   2  5.8732113e+12 0.00e+00 2.42e+01  -1.0 5.36e+01    -  2.41e-02 1.00e+00f  1\n",
      "   3  5.6381009e+11 0.00e+00 4.07e+00  -1.0 1.12e+03    -  1.38e-01 1.00e+00f  1\n",
      "   4  2.0518093e+11 0.00e+00 2.09e+00  -1.0 3.92e+02    -  2.51e-01 5.01e-01f  1\n",
      "   5  1.0132583e+10 0.00e+00 7.76e-01  -1.0 1.42e+02    -  1.85e-01 1.00e+00f  1\n",
      "   6  1.6783030e+09 0.00e+00 3.12e-01  -1.0 1.35e+02    -  4.02e-01 1.00e+00f  1\n",
      "   7  9.2929347e+08 0.00e+00 3.89e-02  -1.0 1.61e+02    -  5.21e-01 1.00e+00f  1\n",
      "   8  7.4190094e+08 0.00e+00 3.72e-02  -1.7 2.39e+03    -  1.33e-01 1.00e+00f  1\n",
      "   9  6.5480301e+08 0.00e+00 2.14e-02  -1.7 1.05e+03    -  4.23e-01 1.00e+00f  1\n",
      "iter    objective    inf_pr   inf_du lg(mu)  ||d||  lg(rg) alpha_du alpha_pr  ls\n",
      "  10  5.6284344e+08 0.00e+00 1.65e-02  -1.7 1.37e+03    -  2.33e-01 1.00e+00f  1\n",
      "  11  4.9880487e+08 0.00e+00 9.33e-03  -1.7 1.09e+03    -  4.32e-01 1.00e+00f  1\n",
      "  12  4.4307361e+08 0.00e+00 5.09e-03  -1.7 6.51e+02    -  4.54e-01 1.00e+00f  1\n",
      "  13  3.3067958e+08 0.00e+00 4.95e-03  -2.5 8.11e+02    -  1.61e-01 1.00e+00f  1\n",
      "  14  2.7464084e+08 0.00e+00 3.21e-03  -2.5 1.31e+03    -  3.51e-01 1.00e+00f  1\n",
      "  15  2.2468523e+08 0.00e+00 2.42e-03  -2.5 5.98e+02    -  2.42e-01 1.00e+00f  1\n",
      "  16  1.8147954e+08 0.00e+00 1.51e-03  -2.5 5.03e+02    -  3.68e-01 1.00e+00f  1\n",
      "  17  1.3996117e+08 0.00e+00 8.66e-04  -2.5 4.57e+02    -  4.14e-01 1.00e+00f  1\n",
      "  18  1.0675220e+08 0.00e+00 5.01e-04  -2.5 2.56e+02    -  4.05e-01 1.00e+00f  1\n",
      "  19  8.6843158e+07 0.00e+00 2.02e-04  -2.5 1.31e+02    -  5.85e-01 1.00e+00f  1\n",
      "iter    objective    inf_pr   inf_du lg(mu)  ||d||  lg(rg) alpha_du alpha_pr  ls\n",
      "  20  4.0216091e+07 0.00e+00 3.36e-04  -3.8 1.93e+02    -  3.65e-01 1.00e+00f  1\n",
      "  21  2.3598568e+07 0.00e+00 2.12e-04  -3.8 1.25e+02    -  3.65e-01 1.00e+00f  1\n",
      "  22  1.5998452e+07 0.00e+00 1.11e-04  -3.8 6.35e+01    -  4.93e-01 1.00e+00f  1\n",
      "  23  1.2057464e+07 0.00e+00 5.77e-05  -3.8 3.77e+01    -  5.51e-01 1.00e+00f  1\n",
      "  24  7.9718347e+06 0.00e+00 4.90e-05  -5.7 3.31e+01    -  4.78e-01 1.00e+00f  1\n",
      "  25  6.3580233e+06 0.00e+00 2.91e-05  -5.7 1.91e+01    -  5.31e-01 1.00e+00f  1\n",
      "  26  5.5574817e+06 0.00e+00 1.63e-05  -5.7 1.14e+01    -  5.65e-01 1.00e+00f  1\n",
      "  27  5.1656699e+06 0.00e+00 7.04e-06  -5.7 5.79e+00    -  6.48e-01 1.00e+00f  1\n",
      "  28  5.0024032e+06 0.00e+00 1.78e-06  -5.7 2.49e+00    -  8.08e-01 1.00e+00f  1\n",
      "  29  4.8822060e+06 0.00e+00 8.92e-07  -8.6 1.17e+00    -  7.83e-01 1.00e+00f  1\n",
      "iter    objective    inf_pr   inf_du lg(mu)  ||d||  lg(rg) alpha_du alpha_pr  ls\n",
      "  30  4.8631451e+06 0.00e+00 2.23e-07  -8.6 3.76e-01    -  8.81e-01 1.00e+00f  1\n",
      "  31  4.8608918e+06 0.00e+00 2.44e-08  -8.6 1.98e-01    -  9.66e-01 1.00e+00f  1\n",
      "  32  4.8606791e+06 0.00e+00 5.39e-12  -8.6 1.20e-01    -  1.00e+00 1.00e+00f  1\n",
      "  33  4.8606601e+06 0.00e+00 3.92e-12  -8.6 6.16e-02    -  1.00e+00 1.00e+00f  1\n",
      "  34  4.8605336e+06 0.00e+00 4.02e-12 -11.0 3.47e-02    -  1.00e+00 1.00e+00f  1\n",
      "  35  4.8605332e+06 0.00e+00 2.26e-12 -11.0 1.72e-02    -  1.00e+00 1.00e+00f  1\n",
      "  36  4.8605332e+06 0.00e+00 2.48e-13 -11.0 7.90e-03    -  1.00e+00 1.00e+00f  1\n",
      "  37  4.8605332e+06 0.00e+00 1.18e-13 -11.0 2.89e-03    -  1.00e+00 1.00e+00f  1\n",
      "\n",
      "Number of Iterations....: 37\n",
      "\n",
      "                                   (scaled)                 (unscaled)\n",
      "Objective...............:   4.7994236258039376e+00    4.8605331510157390e+06\n",
      "Dual infeasibility......:   1.1826384205488515e-13    1.1976965771134054e-07\n",
      "Constraint violation....:   0.0000000000000000e+00    0.0000000000000000e+00\n",
      "Complementarity.........:   2.6844554164529099e-11    2.7186357282448713e-05\n",
      "Overall NLP error.......:   2.6844554164529099e-11    2.7186357282448713e-05\n",
      "\n",
      "\n",
      "Number of objective function evaluations             = 38\n",
      "Number of objective gradient evaluations             = 38\n",
      "Number of equality constraint evaluations            = 0\n",
      "Number of inequality constraint evaluations          = 0\n",
      "Number of equality constraint Jacobian evaluations   = 0\n",
      "Number of inequality constraint Jacobian evaluations = 0\n",
      "Number of Lagrangian Hessian evaluations             = 37\n",
      "Total CPU secs in IPOPT (w/o function evaluations)   =  12277.780\n",
      "Total CPU secs in NLP function evaluations           =     22.636\n",
      "\n",
      "EXIT: Optimal Solution Found.\n",
      "\bCPU times: user 9.71 s, sys: 124 ms, total: 9.83 s\n",
      "Wall time: 1h 30min 12s\n"
     ]
    }
   ],
   "source": [
    "%%time\n",
    "\n",
    "strat_cnt_opt = nonneg_optimized_counts(county_total_cnt, strat_cnt_gdpc)\n",
    "strat_cnt_opt.shape"
   ]
  },
  {
   "cell_type": "code",
   "execution_count": 24,
   "metadata": {},
   "outputs": [],
   "source": [
    "error = strat_cnt_opt - strat_cnt_orig\n",
    "df_epl = dp_2020_census.model.empirical_privacy_loss(\n",
    "    error, bandwidth=0.1, est_range_percentile=95, est_range_multiplier=1.0)"
   ]
  },
  {
   "cell_type": "code",
   "execution_count": 31,
   "metadata": {},
   "outputs": [
    {
     "data": {
      "image/png": "[encoded data removed]",
      "text/plain": [
       "<Figure size 2550x600 with 2 Axes>"
      ]
     },
     "metadata": {
      "needs_background": "light"
     },
     "output_type": "display_data"
    }
   ],
   "source": [
    "def my_plot(df_epl):\n",
    "    fig, ax = plt.subplots(ncols=2, figsize=(8.5, 2), dpi=300)\n",
    "    \n",
    "    ax[0].plot(df_epl['hist'], linewidth=1, linestyle='-', label='$\\\\hat{p}(k)$', drawstyle='steps-mid')\n",
    "    ax[0].plot(df_epl['smooth_hist'], linewidth=2, linestyle='-', label='$p^{\\\\mathrm{KDE}}(x)$')\n",
    "    \n",
    "    ax[0].set_ylabel('Number of districts')\n",
    "    ax[0].set_xlabel('Error in DP Count (people)')\n",
    "#     ax[0].set_xlim(-20,30)\n",
    "    ax[0].grid()\n",
    "    ax[0].text(.01, .98, '(a)', transform=ax[0].transAxes, ha='left', va='top')\n",
    "    ax[0].legend(loc='upper right')\n",
    "\n",
    "    ax[1].plot(df_epl['smooth_epl'], linestyle='-', color='C1', label='$\\\\mathrm{EPL}(x)$')\n",
    "    xx = np.absolute(df_epl.smooth_epl).idxmax()\n",
    "    yy = np.absolute(df_epl.smooth_epl).max()\n",
    "    ax[1].plot([xx], [yy], 'o', color='none', mec='C2', mew=1)\n",
    "    \n",
    "    ax[1].set_ylabel('Empirical Privacy Loss')\n",
    "    ax[1].set_xlabel('Error in DP Count (people)')\n",
    "    ax[1].axhline(0, color='k', alpha=.5)\n",
    "    ax[1].axhline(epsilon/2, color='k', linestyle='--', alpha=.5, label=f'$\\\\epsilon = {epsilon}$')\n",
    "    ax[1].axhline(-epsilon/2, color='k', linestyle='--', alpha=.5)\n",
    "    ax[1].grid()\n",
    "    ax[1].text(.01, .98, '(b)', transform=ax[1].transAxes, ha='left', va='top')\n",
    "    ax[1].legend(loc='lower right')\n",
    "    \n",
    "    plt.subplots_adjust(wspace=.5, bottom=.25)\n",
    "\n",
    "my_plot(df_epl)\n",
    "plt.savefig('fig_SA4_hist_epl.png')"
   ]
  },
  {
   "cell_type": "code",
   "execution_count": 32,
   "metadata": {},
   "outputs": [
    {
     "data": {
      "text/plain": [
       "2.325477896832769"
      ]
     },
     "execution_count": 32,
     "metadata": {},
     "output_type": "execute_result"
    }
   ],
   "source": [
    "np.absolute(df_epl.smooth_epl).max()"
   ]
  },
  {
   "cell_type": "code",
   "execution_count": 33,
   "metadata": {},
   "outputs": [
    {
     "data": {
      "text/plain": [
       "0.3233975026710578"
      ]
     },
     "execution_count": 33,
     "metadata": {},
     "output_type": "execute_result"
    }
   ],
   "source": [
    "2*np.percentile(np.absolute(df_epl.smooth_epl), 50)"
   ]
  },
  {
   "cell_type": "code",
   "execution_count": 34,
   "metadata": {},
   "outputs": [
    {
     "data": {
      "text/plain": [
       " 0.0     46358\n",
       "-1.0      1003\n",
       "-2.0       782\n",
       "-3.0       464\n",
       "-4.0       312\n",
       "         ...  \n",
       " 30.9        1\n",
       "-38.2        1\n",
       " 29.4        1\n",
       " 51.1        1\n",
       " 24.7        1\n",
       "Length: 752, dtype: int64"
      ]
     },
     "execution_count": 34,
     "metadata": {},
     "output_type": "execute_result"
    }
   ],
   "source": [
    "np.round(error,1).value_counts()"
   ]
  },
  {
   "cell_type": "code",
   "execution_count": null,
   "metadata": {},
   "outputs": [],
   "source": []
  }
 ],
 "metadata": {
  "kernelspec": {
   "display_name": "dismod_mr",
   "language": "python",
   "name": "dismod_mr"
  },
  "language_info": {
   "codemirror_mode": {
    "name": "ipython",
    "version": 3
   },
   "file_extension": ".py",
   "mimetype": "text/x-python",
   "name": "python",
   "nbconvert_exporter": "python",
   "pygments_lexer": "ipython3",
   "version": "3.6.7"
  }
 },
 "nbformat": 4,
 "nbformat_minor": 2
}
