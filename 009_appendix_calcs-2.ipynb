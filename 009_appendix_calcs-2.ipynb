{
 "cells": [
  {
   "cell_type": "code",
   "execution_count": 1,
   "metadata": {},
   "outputs": [
    {
     "name": "stdout",
     "output_type": "stream",
     "text": [
      "Sun Mar  8 08:07:47 PDT 2020\r\n"
     ]
    }
   ],
   "source": [
    "import numpy as np, matplotlib.pyplot as plt, pandas as pd\n",
    "pd.set_option('display.max_rows', 16)\n",
    "!date\n",
    "\n",
    "%load_ext autoreload\n",
    "%autoreload 2"
   ]
  },
  {
   "cell_type": "markdown",
   "metadata": {},
   "source": [
    "# Supplementary Appendix Calcs for Census DP E2E Paper (part 2)\n",
    "\n",
    "EPL is capable of producing evidence that the bounds in the sequential composition theorem are not tight, as well.  As a minimal example of how this can happen, we add a little complexity to our simple demonstration example, by including a measurement of the total count in each enumeration district with epsilon1 and the measurements of the stratified counts in each enumeration district with epsilon2.  Inspired by the optimization step of TopDown, we then use optimization to find consistent values for the detailed counts that minimize the weighted sum of the absolute differences between the measured values and the optimized values [[equation here]].  This is epsilon1+epsilon2-DP because of sequential composition, but the EPL can be substantially smaller than this sum as shown in [[table of e1, e2, epl]]."
   ]
  },
  {
   "cell_type": "code",
   "execution_count": 2,
   "metadata": {},
   "outputs": [],
   "source": [
    "import dp_2020_census.data, dp_2020_census.model"
   ]
  },
  {
   "cell_type": "code",
   "execution_count": 3,
   "metadata": {},
   "outputs": [],
   "source": [
    "df_orig = dp_2020_census.data.load_orig_counts()"
   ]
  },
  {
   "cell_type": "code",
   "execution_count": 4,
   "metadata": {},
   "outputs": [
    {
     "data": {
      "text/html": [
       "<div>\n",
       "<style scoped>\n",
       "    .dataframe tbody tr th:only-of-type {\n",
       "        vertical-align: middle;\n",
       "    }\n",
       "\n",
       "    .dataframe tbody tr th {\n",
       "        vertical-align: top;\n",
       "    }\n",
       "\n",
       "    .dataframe thead th {\n",
       "        text-align: right;\n",
       "    }\n",
       "</style>\n",
       "<table border=\"1\" class=\"dataframe\">\n",
       "  <thead>\n",
       "    <tr style=\"text-align: right;\">\n",
       "      <th></th>\n",
       "      <th>state</th>\n",
       "      <th>county</th>\n",
       "      <th>enum_dist</th>\n",
       "      <th>gq</th>\n",
       "      <th>age</th>\n",
       "      <th>race</th>\n",
       "      <th>eth</th>\n",
       "      <th>count</th>\n",
       "    </tr>\n",
       "  </thead>\n",
       "  <tbody>\n",
       "    <tr>\n",
       "      <th>0</th>\n",
       "      <td>2</td>\n",
       "      <td>3000</td>\n",
       "      <td>10</td>\n",
       "      <td>1</td>\n",
       "      <td>18</td>\n",
       "      <td>1</td>\n",
       "      <td>1</td>\n",
       "      <td>85</td>\n",
       "    </tr>\n",
       "    <tr>\n",
       "      <th>1</th>\n",
       "      <td>2</td>\n",
       "      <td>3000</td>\n",
       "      <td>10</td>\n",
       "      <td>1</td>\n",
       "      <td>17</td>\n",
       "      <td>1</td>\n",
       "      <td>1</td>\n",
       "      <td>7</td>\n",
       "    </tr>\n",
       "    <tr>\n",
       "      <th>2</th>\n",
       "      <td>2</td>\n",
       "      <td>3000</td>\n",
       "      <td>10</td>\n",
       "      <td>1</td>\n",
       "      <td>18</td>\n",
       "      <td>2</td>\n",
       "      <td>1</td>\n",
       "      <td>1</td>\n",
       "    </tr>\n",
       "    <tr>\n",
       "      <th>3</th>\n",
       "      <td>2</td>\n",
       "      <td>3000</td>\n",
       "      <td>10</td>\n",
       "      <td>1</td>\n",
       "      <td>18</td>\n",
       "      <td>3</td>\n",
       "      <td>1</td>\n",
       "      <td>1</td>\n",
       "    </tr>\n",
       "    <tr>\n",
       "      <th>4</th>\n",
       "      <td>2</td>\n",
       "      <td>3000</td>\n",
       "      <td>10</td>\n",
       "      <td>1</td>\n",
       "      <td>17</td>\n",
       "      <td>3</td>\n",
       "      <td>1</td>\n",
       "      <td>3</td>\n",
       "    </tr>\n",
       "    <tr>\n",
       "      <th>...</th>\n",
       "      <td>...</td>\n",
       "      <td>...</td>\n",
       "      <td>...</td>\n",
       "      <td>...</td>\n",
       "      <td>...</td>\n",
       "      <td>...</td>\n",
       "      <td>...</td>\n",
       "      <td>...</td>\n",
       "    </tr>\n",
       "    <tr>\n",
       "      <th>825431</th>\n",
       "      <td>56</td>\n",
       "      <td>450</td>\n",
       "      <td>160</td>\n",
       "      <td>1</td>\n",
       "      <td>17</td>\n",
       "      <td>1</td>\n",
       "      <td>1</td>\n",
       "      <td>68</td>\n",
       "    </tr>\n",
       "    <tr>\n",
       "      <th>825432</th>\n",
       "      <td>56</td>\n",
       "      <td>450</td>\n",
       "      <td>160</td>\n",
       "      <td>1</td>\n",
       "      <td>18</td>\n",
       "      <td>1</td>\n",
       "      <td>2</td>\n",
       "      <td>1</td>\n",
       "    </tr>\n",
       "    <tr>\n",
       "      <th>825433</th>\n",
       "      <td>56</td>\n",
       "      <td>455</td>\n",
       "      <td>10</td>\n",
       "      <td>1</td>\n",
       "      <td>18</td>\n",
       "      <td>1</td>\n",
       "      <td>1</td>\n",
       "      <td>325</td>\n",
       "    </tr>\n",
       "    <tr>\n",
       "      <th>825434</th>\n",
       "      <td>56</td>\n",
       "      <td>455</td>\n",
       "      <td>10</td>\n",
       "      <td>1</td>\n",
       "      <td>17</td>\n",
       "      <td>1</td>\n",
       "      <td>1</td>\n",
       "      <td>87</td>\n",
       "    </tr>\n",
       "    <tr>\n",
       "      <th>825435</th>\n",
       "      <td>56</td>\n",
       "      <td>455</td>\n",
       "      <td>10</td>\n",
       "      <td>6</td>\n",
       "      <td>18</td>\n",
       "      <td>1</td>\n",
       "      <td>1</td>\n",
       "      <td>4</td>\n",
       "    </tr>\n",
       "  </tbody>\n",
       "</table>\n",
       "<p>825436 rows × 8 columns</p>\n",
       "</div>"
      ],
      "text/plain": [
       "        state  county  enum_dist  gq  age  race  eth  count\n",
       "0           2    3000         10   1   18     1    1     85\n",
       "1           2    3000         10   1   17     1    1      7\n",
       "2           2    3000         10   1   18     2    1      1\n",
       "3           2    3000         10   1   18     3    1      1\n",
       "4           2    3000         10   1   17     3    1      3\n",
       "...       ...     ...        ...  ..  ...   ...  ...    ...\n",
       "825431     56     450        160   1   17     1    1     68\n",
       "825432     56     450        160   1   18     1    2      1\n",
       "825433     56     455         10   1   18     1    1    325\n",
       "825434     56     455         10   1   17     1    1     87\n",
       "825435     56     455         10   6   18     1    1      4\n",
       "\n",
       "[825436 rows x 8 columns]"
      ]
     },
     "execution_count": 4,
     "metadata": {},
     "output_type": "execute_result"
    }
   ],
   "source": [
    "df_orig"
   ]
  },
  {
   "cell_type": "code",
   "execution_count": 5,
   "metadata": {},
   "outputs": [
    {
     "data": {
      "text/plain": [
       "state  county  enum_dist\n",
       "53     10      10            348\n",
       "               20            227\n",
       "               30             79\n",
       "               40            121\n",
       "               50            181\n",
       "                            ... \n",
       "       770     1330         1642\n",
       "               1340         1157\n",
       "               1350         1378\n",
       "               1360          145\n",
       "               1370          415\n",
       "Name: count, Length: 2663, dtype: int64"
      ]
     },
     "execution_count": 5,
     "metadata": {},
     "output_type": "execute_result"
    }
   ],
   "source": [
    "total_cnt_orig = df_orig[(df_orig.state == 53)].groupby(['state', 'county', 'enum_dist'])['count'].sum()\n",
    "total_cnt_orig"
   ]
  },
  {
   "cell_type": "code",
   "execution_count": 6,
   "metadata": {},
   "outputs": [],
   "source": [
    "stratification_cols = ['state', 'age', 'race', 'eth']\n",
    "col_vals = []\n",
    "for col in stratification_cols:\n",
    "    col_vals.append(df_orig[(df_orig.state == 53)][col].unique())"
   ]
  },
  {
   "cell_type": "code",
   "execution_count": 7,
   "metadata": {},
   "outputs": [
    {
     "data": {
      "text/plain": [
       "[array([53]), array([18, 17]), array([1, 5, 2, 6, 3, 4]), array([1, 2])]"
      ]
     },
     "execution_count": 7,
     "metadata": {},
     "output_type": "execute_result"
    }
   ],
   "source": [
    "col_vals"
   ]
  },
  {
   "cell_type": "code",
   "execution_count": 8,
   "metadata": {},
   "outputs": [
    {
     "data": {
      "text/html": [
       "<div>\n",
       "<style scoped>\n",
       "    .dataframe tbody tr th:only-of-type {\n",
       "        vertical-align: middle;\n",
       "    }\n",
       "\n",
       "    .dataframe tbody tr th {\n",
       "        vertical-align: top;\n",
       "    }\n",
       "\n",
       "    .dataframe thead th {\n",
       "        text-align: right;\n",
       "    }\n",
       "</style>\n",
       "<table border=\"1\" class=\"dataframe\">\n",
       "  <thead>\n",
       "    <tr style=\"text-align: right;\">\n",
       "      <th></th>\n",
       "      <th>state</th>\n",
       "      <th>county</th>\n",
       "      <th>enum_dist</th>\n",
       "      <th>age</th>\n",
       "      <th>race</th>\n",
       "      <th>eth</th>\n",
       "      <th>count</th>\n",
       "    </tr>\n",
       "  </thead>\n",
       "  <tbody>\n",
       "    <tr>\n",
       "      <th>0</th>\n",
       "      <td>53</td>\n",
       "      <td>10</td>\n",
       "      <td>10</td>\n",
       "      <td>17</td>\n",
       "      <td>1</td>\n",
       "      <td>1</td>\n",
       "      <td>139</td>\n",
       "    </tr>\n",
       "    <tr>\n",
       "      <th>1</th>\n",
       "      <td>53</td>\n",
       "      <td>10</td>\n",
       "      <td>10</td>\n",
       "      <td>18</td>\n",
       "      <td>1</td>\n",
       "      <td>1</td>\n",
       "      <td>209</td>\n",
       "    </tr>\n",
       "    <tr>\n",
       "      <th>2</th>\n",
       "      <td>53</td>\n",
       "      <td>10</td>\n",
       "      <td>20</td>\n",
       "      <td>17</td>\n",
       "      <td>1</td>\n",
       "      <td>1</td>\n",
       "      <td>62</td>\n",
       "    </tr>\n",
       "    <tr>\n",
       "      <th>3</th>\n",
       "      <td>53</td>\n",
       "      <td>10</td>\n",
       "      <td>20</td>\n",
       "      <td>18</td>\n",
       "      <td>1</td>\n",
       "      <td>1</td>\n",
       "      <td>165</td>\n",
       "    </tr>\n",
       "    <tr>\n",
       "      <th>4</th>\n",
       "      <td>53</td>\n",
       "      <td>10</td>\n",
       "      <td>30</td>\n",
       "      <td>17</td>\n",
       "      <td>1</td>\n",
       "      <td>1</td>\n",
       "      <td>19</td>\n",
       "    </tr>\n",
       "    <tr>\n",
       "      <th>...</th>\n",
       "      <td>...</td>\n",
       "      <td>...</td>\n",
       "      <td>...</td>\n",
       "      <td>...</td>\n",
       "      <td>...</td>\n",
       "      <td>...</td>\n",
       "      <td>...</td>\n",
       "    </tr>\n",
       "    <tr>\n",
       "      <th>9864</th>\n",
       "      <td>53</td>\n",
       "      <td>770</td>\n",
       "      <td>1360</td>\n",
       "      <td>18</td>\n",
       "      <td>1</td>\n",
       "      <td>1</td>\n",
       "      <td>105</td>\n",
       "    </tr>\n",
       "    <tr>\n",
       "      <th>9865</th>\n",
       "      <td>53</td>\n",
       "      <td>770</td>\n",
       "      <td>1370</td>\n",
       "      <td>17</td>\n",
       "      <td>1</td>\n",
       "      <td>1</td>\n",
       "      <td>105</td>\n",
       "    </tr>\n",
       "    <tr>\n",
       "      <th>9866</th>\n",
       "      <td>53</td>\n",
       "      <td>770</td>\n",
       "      <td>1370</td>\n",
       "      <td>17</td>\n",
       "      <td>1</td>\n",
       "      <td>2</td>\n",
       "      <td>1</td>\n",
       "    </tr>\n",
       "    <tr>\n",
       "      <th>9867</th>\n",
       "      <td>53</td>\n",
       "      <td>770</td>\n",
       "      <td>1370</td>\n",
       "      <td>18</td>\n",
       "      <td>1</td>\n",
       "      <td>1</td>\n",
       "      <td>307</td>\n",
       "    </tr>\n",
       "    <tr>\n",
       "      <th>9868</th>\n",
       "      <td>53</td>\n",
       "      <td>770</td>\n",
       "      <td>1370</td>\n",
       "      <td>18</td>\n",
       "      <td>1</td>\n",
       "      <td>2</td>\n",
       "      <td>2</td>\n",
       "    </tr>\n",
       "  </tbody>\n",
       "</table>\n",
       "<p>9869 rows × 7 columns</p>\n",
       "</div>"
      ],
      "text/plain": [
       "      state  county  enum_dist  age  race  eth  count\n",
       "0        53      10         10   17     1    1    139\n",
       "1        53      10         10   18     1    1    209\n",
       "2        53      10         20   17     1    1     62\n",
       "3        53      10         20   18     1    1    165\n",
       "4        53      10         30   17     1    1     19\n",
       "...     ...     ...        ...  ...   ...  ...    ...\n",
       "9864     53     770       1360   18     1    1    105\n",
       "9865     53     770       1370   17     1    1    105\n",
       "9866     53     770       1370   17     1    2      1\n",
       "9867     53     770       1370   18     1    1    307\n",
       "9868     53     770       1370   18     1    2      2\n",
       "\n",
       "[9869 rows x 7 columns]"
      ]
     },
     "execution_count": 8,
     "metadata": {},
     "output_type": "execute_result"
    }
   ],
   "source": [
    "t = df_orig[(df_orig.state == 53)].groupby(['state', 'county', 'enum_dist', 'age', 'race', 'eth'])['count'].sum().reset_index()\n",
    "t"
   ]
  },
  {
   "cell_type": "code",
   "execution_count": 9,
   "metadata": {},
   "outputs": [],
   "source": [
    "t = pd.merge(total_cnt_orig.reset_index(),\n",
    "             pd.Series(0, index=pd.MultiIndex.from_product(col_vals, names=stratification_cols)).reset_index(),\n",
    "             on='state', how='outer')\n",
    "all_zeros = t.groupby(['state', 'county', 'enum_dist', 'age', 'race', 'eth'])[0].sum()"
   ]
  },
  {
   "cell_type": "code",
   "execution_count": 10,
   "metadata": {},
   "outputs": [
    {
     "data": {
      "text/plain": [
       "state  county  enum_dist  age  race  eth\n",
       "53     10      10         17   1     1      139.0\n",
       "                                     2        0.0\n",
       "                               2     1        0.0\n",
       "                                     2        0.0\n",
       "                               3     1        0.0\n",
       "                                            ...  \n",
       "       770     1370       18   4     2        0.0\n",
       "                               5     1        0.0\n",
       "                                     2        0.0\n",
       "                               6     1        0.0\n",
       "                                     2        0.0\n",
       "Length: 63912, dtype: float64"
      ]
     },
     "execution_count": 10,
     "metadata": {},
     "output_type": "execute_result"
    }
   ],
   "source": [
    "strat_cnt_orig = df_orig[(df_orig.state == 53)].groupby(['state', 'county', 'enum_dist', 'age', 'race', 'eth'])['count'].sum()\n",
    "strat_cnt_orig = strat_cnt_orig.add(all_zeros, fill_value=0)\n",
    "strat_cnt_orig"
   ]
  },
  {
   "cell_type": "code",
   "execution_count": 11,
   "metadata": {},
   "outputs": [],
   "source": [
    "# set randoms seed for reproducibility\n",
    "np.random.seed(12345)"
   ]
  },
  {
   "cell_type": "code",
   "execution_count": 12,
   "metadata": {},
   "outputs": [
    {
     "data": {
      "text/plain": [
       "state  county  enum_dist\n",
       "53     10      10            356\n",
       "               20            225\n",
       "               30             56\n",
       "               40            122\n",
       "               50            185\n",
       "                            ... \n",
       "       770     1330         1651\n",
       "               1340         1153\n",
       "               1350         1375\n",
       "               1360          146\n",
       "               1370          401\n",
       "Name: count, Length: 2663, dtype: int64"
      ]
     },
     "execution_count": 12,
     "metadata": {},
     "output_type": "execute_result"
    }
   ],
   "source": [
    "epsilon_1 = 0.25\n",
    "total_cnt_gdpc = dp_2020_census.model.GDPC(epsilon_1/2, total_cnt_orig)\n",
    "total_cnt_gdpc"
   ]
  },
  {
   "cell_type": "code",
   "execution_count": 13,
   "metadata": {},
   "outputs": [
    {
     "data": {
      "text/plain": [
       "state  county  enum_dist  age  race  eth\n",
       "53     10      10         17   1     1      139.0\n",
       "                                     2        8.0\n",
       "                               2     1        0.0\n",
       "                                     2       -3.0\n",
       "                               3     1        2.0\n",
       "                                            ...  \n",
       "       770     1370       18   4     2        0.0\n",
       "                               5     1        0.0\n",
       "                                     2       -1.0\n",
       "                               6     1       -1.0\n",
       "                                     2        5.0\n",
       "Length: 63912, dtype: float64"
      ]
     },
     "execution_count": 13,
     "metadata": {},
     "output_type": "execute_result"
    }
   ],
   "source": [
    "epsilon_2 = 0.75\n",
    "strat_cnt_gdpc = dp_2020_census.model.GDPC(epsilon_2/2, strat_cnt_orig)\n",
    "strat_cnt_gdpc"
   ]
  },
  {
   "cell_type": "code",
   "execution_count": 14,
   "metadata": {},
   "outputs": [
    {
     "data": {
      "text/plain": [
       "age  race  eth\n",
       "17   1     1      139.0\n",
       "           2        8.0\n",
       "     2     1        0.0\n",
       "           2       -3.0\n",
       "     3     1        2.0\n",
       "                  ...  \n",
       "18   4     2       -2.0\n",
       "     5     1        2.0\n",
       "           2        0.0\n",
       "     6     1        0.0\n",
       "           2        1.0\n",
       "Length: 24, dtype: float64"
      ]
     },
     "execution_count": 14,
     "metadata": {},
     "output_type": "execute_result"
    }
   ],
   "source": [
    "strat_cnt_gdpc[53,10,10]"
   ]
  },
  {
   "cell_type": "code",
   "execution_count": 15,
   "metadata": {},
   "outputs": [],
   "source": [
    "import pyomo.environ\n",
    "from pyomo.core import *\n",
    "from pyomo.opt import SolverFactory"
   ]
  },
  {
   "cell_type": "code",
   "execution_count": 16,
   "metadata": {},
   "outputs": [
    {
     "data": {
      "text/plain": [
       "array([359.85714294, 230.62500011,  70.5714287 , 130.33333342,\n",
       "       131.        ])"
      ]
     },
     "execution_count": 16,
     "metadata": {},
     "output_type": "execute_result"
    }
   ],
   "source": [
    "def nonneg_optimized_counts(total_counts, strat_counts):\n",
    "    \"\"\"optimize the stratified counts so that they are consistent with the control total and are non-negative\n",
    "    \n",
    "    Parameters\n",
    "    ----------\n",
    "    total_counts : pd.Series of floats\n",
    "    strat_counts : pd.Series of floats\n",
    "    \n",
    "    Results\n",
    "    -------\n",
    "    returns optimized_total_counts, where noisy counts are optimized\n",
    "    to be close to total and stratified counts and not be negative\n",
    "    \"\"\"\n",
    "    \n",
    "    model = ConcreteModel()\n",
    "    model.I = range(len(strat_counts))\n",
    "\n",
    "    model.x = Var(model.I, within=NonNegativeReals, initialize=0)\n",
    "    \n",
    "    model.tc = []\n",
    "    obj_expr_list = []\n",
    "    for i, df_i in strat_counts.reset_index().groupby(['state', 'county', 'enum_dist']):\n",
    "        model.tc.append(sum(model.x[ii] for ii in df_i.index))\n",
    "        obj_expr_list.append(.25*(sum(model.x[ii] for ii in df_i.index) - total_counts[i])**2)\n",
    "        for ii in df_i.index:\n",
    "            obj_expr_list.append(.75*(model.x[ii] - strat_counts.iloc[ii])**2)\n",
    "    model.objective = Objective(expr = sum(obj_expr_list))\n",
    "    \n",
    "    solver = SolverFactory('ipopt')\n",
    "    options = {#'acceptable_tol':.01, # https://www.coin-or.org/Bonmin/option_pages/options_list_ipopt.html\n",
    "#                'resto_failure_feasibility_threshold': 1e-3,\n",
    "#                'bound_push':1e-9,  # from https://list.coin-or.org/pipermail/ipopt/2013-April/003319.html\n",
    "#                'bound_frac':1e-9, # as above\n",
    "#                'report_mininfeas_solution': 'yes', # from http://citeseerx.ist.psu.edu/viewdoc/download?doi=10.1.1.589.5002&rep=rep1&type=pdf\n",
    "              }\n",
    "    results = solver.solve(model, options=options, tee=False)\n",
    "    optimized_counts = np.array([value(tc_i) for tc_i in model.tc])\n",
    "        \n",
    "    return optimized_counts\n",
    "nonneg_optimized_counts(total_cnt_gdpc, strat_cnt_gdpc.iloc[:100])"
   ]
  },
  {
   "cell_type": "code",
   "execution_count": 17,
   "metadata": {},
   "outputs": [
    {
     "name": "stdout",
     "output_type": "stream",
     "text": [
      "CPU times: user 12.5 s, sys: 236 ms, total: 12.8 s\n",
      "Wall time: 19.1 s\n"
     ]
    }
   ],
   "source": [
    "%%time\n",
    "\n",
    "total_cnt_opt = nonneg_optimized_counts(total_cnt_gdpc, strat_cnt_gdpc)\n",
    "total_cnt_opt.shape"
   ]
  },
  {
   "cell_type": "code",
   "execution_count": 18,
   "metadata": {},
   "outputs": [
    {
     "name": "stderr",
     "output_type": "stream",
     "text": [
      "/ihme/homes/abie/projects/2019/dp_2020_census/dp_2020_census/model.py:85: RuntimeWarning: divide by zero encountered in log\n",
      "  df['epl_cusum'] = np.log(ccusum[1:] / ccusum[:-1])\n"
     ]
    }
   ],
   "source": [
    "error = total_cnt_opt - total_cnt_orig\n",
    "df_epl = dp_2020_census.model.empirical_privacy_loss(\n",
    "    error, bandwidth=0.1, est_range_percentile=95, est_range_multiplier=1.0)"
   ]
  },
  {
   "cell_type": "code",
   "execution_count": 19,
   "metadata": {},
   "outputs": [],
   "source": [
    "epsilon = epsilon_1 + epsilon_2"
   ]
  },
  {
   "cell_type": "code",
   "execution_count": 20,
   "metadata": {},
   "outputs": [
    {
     "data": {
      "image/png": "[encoded data removed]",
      "text/plain": [
       "<Figure size 2550x600 with 2 Axes>"
      ]
     },
     "metadata": {
      "needs_background": "light"
     },
     "output_type": "display_data"
    }
   ],
   "source": [
    "def my_plot(df_epl):\n",
    "    fig, ax = plt.subplots(ncols=2, figsize=(8.5, 2), dpi=300)\n",
    "    \n",
    "    ax[0].plot(df_epl['hist'], linewidth=1, linestyle='-', label='$\\\\hat{p}(k)$', drawstyle='steps')\n",
    "    ax[0].plot(df_epl['smooth_hist'], linewidth=2, linestyle='-', label='$p^{\\\\mathrm{KDE}}(x)$')\n",
    "    \n",
    "    ax[0].set_ylabel('Number of districts')\n",
    "    ax[0].set_xlabel('Error in DP Count (people)')\n",
    "    ax[0].set_xlim(-20,30)\n",
    "    ax[0].grid()\n",
    "    ax[0].text(.01, .98, '(a)', transform=ax[0].transAxes, ha='left', va='top')\n",
    "    ax[0].legend(loc='upper right')\n",
    "\n",
    "    ax[1].plot(df_epl['smooth_epl'], linestyle='-', color='C1', label='$\\\\mathrm{EPL}(x)$')\n",
    "    xx = np.absolute(df_epl.smooth_epl).idxmax()\n",
    "    yy = np.absolute(df_epl.smooth_epl).max()\n",
    "    ax[1].plot([xx], [-yy], 'o', color='none', mec='C2', mew=1)\n",
    "    \n",
    "    ax[1].set_ylabel('Empirical Privacy Loss')\n",
    "    ax[1].set_xlabel('Error in DP Count (people)')\n",
    "    ax[1].axhline(0, color='k', alpha=.5)\n",
    "    ax[1].axhline(epsilon/2, color='k', linestyle='--', alpha=.5, label=f'$\\\\epsilon = {epsilon}$')\n",
    "    ax[1].axhline(-epsilon/2, color='k', linestyle='--', alpha=.5)\n",
    "    ax[1].grid()\n",
    "    ax[1].text(.01, .98, '(b)', transform=ax[1].transAxes, ha='left', va='top')\n",
    "    ax[1].legend(loc='lower right')\n",
    "    \n",
    "    plt.subplots_adjust(wspace=.5, bottom=.25)\n",
    "\n",
    "my_plot(df_epl)\n",
    "plt.savefig('fig_SA3_hist_epl.png')"
   ]
  },
  {
   "cell_type": "code",
   "execution_count": 21,
   "metadata": {},
   "outputs": [
    {
     "data": {
      "text/plain": [
       "0.5440714549808033"
      ]
     },
     "execution_count": 21,
     "metadata": {},
     "output_type": "execute_result"
    }
   ],
   "source": [
    "np.absolute(df_epl.smooth_epl).max()"
   ]
  },
  {
   "cell_type": "code",
   "execution_count": 22,
   "metadata": {},
   "outputs": [
    {
     "data": {
      "text/plain": [
       "0.31519188227711326"
      ]
     },
     "execution_count": 22,
     "metadata": {},
     "output_type": "execute_result"
    }
   ],
   "source": [
    "2*np.percentile(np.absolute(df_epl.smooth_epl), 50)"
   ]
  },
  {
   "cell_type": "code",
   "execution_count": 23,
   "metadata": {},
   "outputs": [
    {
     "name": "stderr",
     "output_type": "stream",
     "text": [
      "/ihme/homes/abie/projects/2019/dp_2020_census/dp_2020_census/model.py:78: RuntimeWarning: divide by zero encountered in true_divide\n",
      "  ratio = f_empirical[:-1] / f_empirical[1:]\n",
      "/ihme/homes/abie/projects/2019/dp_2020_census/dp_2020_census/model.py:78: RuntimeWarning: invalid value encountered in true_divide\n",
      "  ratio = f_empirical[:-1] / f_empirical[1:]\n",
      "/ihme/homes/abie/projects/2019/dp_2020_census/dp_2020_census/model.py:82: RuntimeWarning: divide by zero encountered in log\n",
      "  df['epl_hist'] = np.log(ratio)\n"
     ]
    },
    {
     "data": {
      "text/html": [
       "<div>\n",
       "<style scoped>\n",
       "    .dataframe tbody tr th:only-of-type {\n",
       "        vertical-align: middle;\n",
       "    }\n",
       "\n",
       "    .dataframe tbody tr th {\n",
       "        vertical-align: top;\n",
       "    }\n",
       "\n",
       "    .dataframe thead th {\n",
       "        text-align: right;\n",
       "    }\n",
       "</style>\n",
       "<table border=\"1\" class=\"dataframe\">\n",
       "  <thead>\n",
       "    <tr style=\"text-align: right;\">\n",
       "      <th></th>\n",
       "      <th>epsilon_1</th>\n",
       "      <th>epsilon_2</th>\n",
       "      <th>epl</th>\n",
       "    </tr>\n",
       "  </thead>\n",
       "  <tbody>\n",
       "    <tr>\n",
       "      <th>0</th>\n",
       "      <td>0.1</td>\n",
       "      <td>0.1</td>\n",
       "      <td>5.721971</td>\n",
       "    </tr>\n",
       "    <tr>\n",
       "      <th>1</th>\n",
       "      <td>0.1</td>\n",
       "      <td>0.2</td>\n",
       "      <td>1.011611</td>\n",
       "    </tr>\n",
       "    <tr>\n",
       "      <th>2</th>\n",
       "      <td>0.1</td>\n",
       "      <td>0.3</td>\n",
       "      <td>0.219830</td>\n",
       "    </tr>\n",
       "    <tr>\n",
       "      <th>3</th>\n",
       "      <td>0.1</td>\n",
       "      <td>0.4</td>\n",
       "      <td>0.284091</td>\n",
       "    </tr>\n",
       "    <tr>\n",
       "      <th>4</th>\n",
       "      <td>0.1</td>\n",
       "      <td>0.5</td>\n",
       "      <td>0.212881</td>\n",
       "    </tr>\n",
       "    <tr>\n",
       "      <th>...</th>\n",
       "      <td>...</td>\n",
       "      <td>...</td>\n",
       "      <td>...</td>\n",
       "    </tr>\n",
       "    <tr>\n",
       "      <th>76</th>\n",
       "      <td>0.9</td>\n",
       "      <td>0.5</td>\n",
       "      <td>56.568667</td>\n",
       "    </tr>\n",
       "    <tr>\n",
       "      <th>77</th>\n",
       "      <td>0.9</td>\n",
       "      <td>0.6</td>\n",
       "      <td>46.466262</td>\n",
       "    </tr>\n",
       "    <tr>\n",
       "      <th>78</th>\n",
       "      <td>0.9</td>\n",
       "      <td>0.7</td>\n",
       "      <td>43.116511</td>\n",
       "    </tr>\n",
       "    <tr>\n",
       "      <th>79</th>\n",
       "      <td>0.9</td>\n",
       "      <td>0.8</td>\n",
       "      <td>33.396272</td>\n",
       "    </tr>\n",
       "    <tr>\n",
       "      <th>80</th>\n",
       "      <td>0.9</td>\n",
       "      <td>0.9</td>\n",
       "      <td>11.145242</td>\n",
       "    </tr>\n",
       "  </tbody>\n",
       "</table>\n",
       "<p>81 rows × 3 columns</p>\n",
       "</div>"
      ],
      "text/plain": [
       "    epsilon_1  epsilon_2        epl\n",
       "0         0.1        0.1   5.721971\n",
       "1         0.1        0.2   1.011611\n",
       "2         0.1        0.3   0.219830\n",
       "3         0.1        0.4   0.284091\n",
       "4         0.1        0.5   0.212881\n",
       "..        ...        ...        ...\n",
       "76        0.9        0.5  56.568667\n",
       "77        0.9        0.6  46.466262\n",
       "78        0.9        0.7  43.116511\n",
       "79        0.9        0.8  33.396272\n",
       "80        0.9        0.9  11.145242\n",
       "\n",
       "[81 rows x 3 columns]"
      ]
     },
     "execution_count": 23,
     "metadata": {},
     "output_type": "execute_result"
    }
   ],
   "source": [
    "# set randoms seed for reproducibility\n",
    "np.random.seed(12345)\n",
    "\n",
    "results = []\n",
    "\n",
    "for epsilon_1 in [.1, .2, .3, .4, .5, .6, .7, .8, .9]:\n",
    "    for epsilon_2 in [.1, .2, .3, .4, .5, .6, .7, .8, .9]:\n",
    "\n",
    "        total_cnt_gdpc = dp_2020_census.model.GDPC(epsilon_1/2, total_cnt_orig)\n",
    "\n",
    "        strat_cnt_gdpc = dp_2020_census.model.GDPC(epsilon_2/2, strat_cnt_orig)\n",
    "\n",
    "        total_cnt_opt = nonneg_optimized_counts(total_cnt_gdpc, strat_cnt_gdpc)\n",
    "        error = total_cnt_opt - total_cnt_orig\n",
    "\n",
    "        df_epl = dp_2020_census.model.empirical_privacy_loss(\n",
    "            error, bandwidth=0.1, est_range_percentile=95, est_range_multiplier=1.0)\n",
    "        \n",
    "        results.append(dict(epsilon_1=epsilon_1, epsilon_2=epsilon_2,\n",
    "                           epl=#2*np.percentile(np.absolute(df_epl.smooth_epl), 50)\n",
    "                            np.absolute(df_epl.smooth_epl).max()\n",
    "                           ))\n",
    "results = pd.DataFrame(results)\n",
    "results"
   ]
  },
  {
   "cell_type": "code",
   "execution_count": 24,
   "metadata": {},
   "outputs": [],
   "source": [
    "results['epsilon'] = results.epsilon_1 + results.epsilon_2"
   ]
  },
  {
   "cell_type": "code",
   "execution_count": 25,
   "metadata": {},
   "outputs": [
    {
     "data": {
      "image/png": "[encoded data removed]",
      "text/plain": [
       "<Figure size 432x288 with 1 Axes>"
      ]
     },
     "metadata": {
      "needs_background": "light"
     },
     "output_type": "display_data"
    }
   ],
   "source": [
    "plt.plot(results.epsilon, results.epl, '.')\n",
    "plt.plot([0,2], [0,2], 'k--')\n",
    "plt.axis(ymin=0, ymax=2);"
   ]
  },
  {
   "cell_type": "code",
   "execution_count": null,
   "metadata": {},
   "outputs": [],
   "source": []
  }
 ],
 "metadata": {
  "kernelspec": {
   "display_name": "dismod_mr",
   "language": "python",
   "name": "dismod_mr"
  },
  "language_info": {
   "codemirror_mode": {
    "name": "ipython",
    "version": 3
   },
   "file_extension": ".py",
   "mimetype": "text/x-python",
   "name": "python",
   "nbconvert_exporter": "python",
   "pygments_lexer": "ipython3",
   "version": "3.6.7"
  }
 },
 "nbformat": 4,
 "nbformat_minor": 2
}
