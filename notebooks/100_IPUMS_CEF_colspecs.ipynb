{
 "cells": [
  {
   "cell_type": "code",
   "execution_count": 1,
   "metadata": {},
   "outputs": [
    {
     "name": "stdout",
     "output_type": "stream",
     "text": [
      "Thu Jun  6 14:06:44 PDT 2019\r\n"
     ]
    }
   ],
   "source": [
    "import numpy as np, matplotlib.pyplot as plt, pandas as pd\n",
    "pd.set_option('display.max_rows', 8)\n",
    "!date\n",
    "\n",
    "%load_ext autoreload\n",
    "%autoreload 2"
   ]
  },
  {
   "cell_type": "markdown",
   "metadata": {},
   "source": [
    "# 1940 Census Data for testing DP\n",
    "\n",
    "https://usa.ipums.org/usa/1940CensusDASTestData.shtml\n",
    "\n",
    "https://www.ipums.org/census-bureau-data.shtml\n",
    "\n",
    "Loading all of the census into main memory appears to require more than 256G on the IHME Cluster."
   ]
  },
  {
   "cell_type": "code",
   "execution_count": 10,
   "metadata": {},
   "outputs": [],
   "source": [
    "colspec_str = \"\"\"  RECTYPE            H   1              1      X \n",
    "  YEAR               H   2-5            4      X \n",
    "  DATANUM            H   6-7            2      X \n",
    "  SERIAL             H   8-15           8      X \n",
    "  NUMPREC            H  16-17           2      X \n",
    "  SUBSAMP            H  18-19           2      X \n",
    "  HHWT               H  20-29          10      X \n",
    "  NUMPERHH           H  30-33           4      X \n",
    "  HHTYPE             H  34              1      X \n",
    "  DWELLING           H  35-42           8      X \n",
    "  SLPERNUM           H  43-44           2      X \n",
    "  CPI99              H  45-49           5      X \n",
    "  REGION             H  50-51           2      X \n",
    "  STATEICP           H  52-53           2      X \n",
    "  STATEFIP           H  54-55           2      X \n",
    "  COUNTY             H  56-59           4      X \n",
    "  URBAN              H  60              1      X \n",
    "  METRO              H  61              1      X \n",
    "  METAREA            H  62-64           3      X \n",
    "  METAREAD           H  65-68           4      X \n",
    "  CITY               H  69-72           4      X \n",
    "  CITYPOP            H  73-77           5      X \n",
    "  SIZEPL             H  78-79           2      X \n",
    "  URBPOP             H  80-84           5      X \n",
    "  SEA                H  85-87           3      X \n",
    "  WARD               H  88-90           3      X \n",
    "  CNTRY              H  91-93           3      X \n",
    "  GQ                 H  94              1      X \n",
    "  GQTYPE             H  95              1      X \n",
    "  GQTYPED            H  96-98           3      X \n",
    "  GQFUNDS            H  99-100          2      X \n",
    "  FARM               H 101              1      X \n",
    "  OWNERSHP           H 102              1      X \n",
    "  OWNERSHPD          H 103-104          2      X \n",
    "  RENT               H 105-108          4      X \n",
    "  VALUEH             H 109-115          7      X \n",
    "  NFAMS              H 116-117          2      X \n",
    "  NSUBFAM            H 118              1      X \n",
    "  NCOUPLES           H 119              1      X \n",
    "  NMOTHERS           H 120              1      X \n",
    "  NFATHERS           H 121              1      X \n",
    "  MULTGEN            H 122              1      X \n",
    "  MULTGEND           H 123-124          2      X \n",
    "  ENUMDIST           H 125-128          4      X \n",
    "  SUPDIST            H 129-131          3      X \n",
    "  RESPOND            H 132              1      X \n",
    "  SPLIT              H 133              1      X \n",
    "  SPLITHID           H 134-141          8      X \n",
    "  SPLITNUM           H 142-145          4      X \n",
    "  SPLIT40            H 146              1      X \n",
    "  SERIAL40           H 147-154          8      X \n",
    "  NUMPREC40          H 155-158          4      X \n",
    "  EDMISS             H 159              1      X \n",
    "  RECTYPEP           P   1              1      X \n",
    "  YEARP              P   2-5            4      X \n",
    "  DATANUMP           P   6-7            2      X \n",
    "  SERIALP            P   8-15           8      X \n",
    "  PERNUM             P  16-19           4      X \n",
    "  PERWT              P  20-29          10      X \n",
    "  SLWT               P  30-39          10      X \n",
    "  SLREC              P  40              1      X \n",
    "  RESPONDT           P  41              1      X \n",
    "  FAMUNIT            P  42-43           2      X \n",
    "  FAMSIZE            P  44-45           2      X \n",
    "  SUBFAM             P  46              1      X \n",
    "  SFTYPE             P  47              1      X \n",
    "  SFRELATE           P  48              1      X \n",
    "  MOMLOC             P  49-50           2      X \n",
    "  STEPMOM            P  51              1      X \n",
    "  MOMRULE_HIST       P  52              1      X \n",
    "  POPLOC             P  53-54           2      X \n",
    "  STEPPOP            P  55              1      X \n",
    "  POPRULE_HIST       P  56              1      X \n",
    "  SPLOC              P  57-58           2      X \n",
    "  SPRULE_HIST        P  59              1      X \n",
    "  NCHILD             P  60              1      X \n",
    "  NCHLT5             P  61              1      X \n",
    "  NSIBS              P  62              1      X \n",
    "  ELDCH              P  63-64           2      X \n",
    "  YNGCH              P  65-66           2      X \n",
    "  RELATE             P  67-68           2      X \n",
    "  RELATED            P  69-72           4      X \n",
    "  SEX                P  73              1      X \n",
    "  AGE                P  74-76           3      X \n",
    "  AGEMONTH           P  77-78           2      X \n",
    "  MARST              P  79              1      X \n",
    "  MARRNO             P  80              1      X \n",
    "  AGEMARR            P  81-82           2      X \n",
    "  CHBORN             P  83-84           2      X \n",
    "  RACE               P  85              1      X \n",
    "  RACED              P  86-88           3      X \n",
    "  HISPAN             P  89              1      X \n",
    "  HISPAND            P  90-92           3      X \n",
    "  BPL                P  93-95           3      X \n",
    "  BPLD               P  96-100          5      X \n",
    "  MBPL               P 101-103          3      X \n",
    "  MBPLD              P 104-108          5      X \n",
    "  FBPL               P 109-111          3      X \n",
    "  FBPLD              P 112-116          5      X \n",
    "  NATIVITY           P 117              1      X \n",
    "  CITIZEN            P 118              1      X \n",
    "  MTONGUE            P 119-120          2      X \n",
    "  MTONGUED           P 121-124          4      X \n",
    "  SPANNAME           P 125              1      X \n",
    "  HISPRULE           P 126              1      X \n",
    "  SCHOOL             P 127              1      X \n",
    "  HIGRADE            P 128-129          2      X \n",
    "  HIGRADED           P 130-132          3      X \n",
    "  EDUC               P 133-134          2      X \n",
    "  EDUCD              P 135-137          3      X \n",
    "  EMPSTAT            P 138              1      X \n",
    "  EMPSTATD           P 139-140          2      X \n",
    "  LABFORCE           P 141              1      X \n",
    "  OCC                P 142-145          4      X \n",
    "  OCC1950            P 146-148          3      X \n",
    "  IND                P 149-152          4      X \n",
    "  IND1950            P 153-155          3      X \n",
    "  CLASSWKR           P 156              1      X \n",
    "  CLASSWKRD          P 157-158          2      X \n",
    "  WKSWORK1           P 159-160          2      X \n",
    "  WKSWORK2           P 161              1      X \n",
    "  HRSWORK1           P 162-163          2      X \n",
    "  HRSWORK2           P 164              1      X \n",
    "  DURUNEMP           P 165-167          3      X \n",
    "  UOCC               P 168-170          3      X \n",
    "  UOCC95             P 171-173          3      X \n",
    "  UIND               P 174-176          3      X \n",
    "  UCLASSWK           P 177              1      X \n",
    "  INCWAGE            P 178-183          6      X \n",
    "  INCNONWG           P 184              1      X \n",
    "  OCCSCORE           P 185-186          2      X \n",
    "  SEI                P 187-188          2      X \n",
    "  PRESGL             P 189-191          3      X \n",
    "  ERSCOR50           P 192-195          4      X \n",
    "  EDSCOR50           P 196-199          4      X \n",
    "  NPBOSS50           P 200-203          4      X \n",
    "  MIGRATE5           P 204              1      X \n",
    "  MIGRATE5D          P 205-206          2      X \n",
    "  MIGPLAC5           P 207-209          3      X \n",
    "  MIGMET5            P 210-213          4      X \n",
    "  MIGTYPE5           P 214              1      X \n",
    "  MIGCITY5           P 215-218          4      X \n",
    "  MIGSEA5            P 219-221          3      X \n",
    "  SAMEPLAC           P 222              1      X \n",
    "  SAMESEA5           P 223              1      X \n",
    "  MIGCOUNTY          P 224-227          4      X \n",
    "  VETSTAT            P 228              1      X \n",
    "  VETSTATD           P 229-230          2      X \n",
    "  VET1940            P 231              1      X \n",
    "  VETWWI             P 232              1      X \n",
    "  VETPER             P 233              1      X \n",
    "  VETCHILD           P 234              1      X \n",
    "  HISTID             P 235-270         36      X \n",
    "  SURSIM             P 271-272          2      X \n",
    "  SSENROLL           P 273              1      X \"\"\""
   ]
  },
  {
   "cell_type": "code",
   "execution_count": 12,
   "metadata": {},
   "outputs": [],
   "source": [
    "with open('data/full_ipums_1940_census_colspecs.txt', 'w') as f:\n",
    "    f.write(colspec_str)"
   ]
  },
  {
   "cell_type": "code",
   "execution_count": 3,
   "metadata": {},
   "outputs": [],
   "source": [
    "colspecs = pd.Series()\n",
    "for line in colspec_str.split('\\n'):\n",
    "    name = line.split()[0].strip()\n",
    "    val_str = line.split()[2]\n",
    "    \n",
    "    start_str = val_str.split('-')[0]\n",
    "    start_index = int(start_str) - 1\n",
    "\n",
    "    end_str = val_str.split('-')[-1]\n",
    "    end_index = int(end_str)\n",
    "    \n",
    "#     print(name, val_str, (start_index, end_index))\n",
    "    colspecs[name] = (start_index, end_index)"
   ]
  },
  {
   "cell_type": "code",
   "execution_count": 6,
   "metadata": {},
   "outputs": [],
   "source": [
    "pd.DataFrame([colspecs]).to_csv('data/ipums_1940_census_colspecs.csv')"
   ]
  },
  {
   "cell_type": "code",
   "execution_count": null,
   "metadata": {},
   "outputs": [],
   "source": [
    "%%time\n",
    "\n",
    "fname = '/home/j/Project/Models/us_census/EXT1940USCB.dat.gz'\n",
    "\n",
    "df = pd.read_fwf(fname, list(colspecs), names=colspecs.index, #nrows=10_000,\n",
    "                 compression='gzip')\n",
    "df"
   ]
  },
  {
   "cell_type": "code",
   "execution_count": null,
   "metadata": {},
   "outputs": [],
   "source": [
    "df.shape"
   ]
  },
  {
   "cell_type": "code",
   "execution_count": null,
   "metadata": {},
   "outputs": [],
   "source": [
    "# qlogin -l fthread=1 -l m_mem_free=100G -P ihme_general -now no -q long.q -l archive=TRUE"
   ]
  },
  {
   "cell_type": "code",
   "execution_count": 52,
   "metadata": {},
   "outputs": [],
   "source": [
    "from dask_jobqueue import SGECluster\n",
    "\n",
    "cluster = SGECluster(queue='all.q',\n",
    "                     project='ihme_general',\n",
    "                     resource_spec='m_mem_free=20G',  # for memory requests, this also needs to be specified\n",
    "                     job_extralist='-l fthread=2',\n",
    "                     processes=2,   # we request 10 processes per worker\n",
    "                     memory='20GB',  # for memory requests, this must be specified\n",
    "                     cores=2, # cores different than processes?\n",
    "                     )"
   ]
  },
  {
   "cell_type": "code",
   "execution_count": 53,
   "metadata": {},
   "outputs": [],
   "source": [
    "from dask.distributed import Client\n",
    "client = Client(cluster)  # Connect this local process to remote workers"
   ]
  },
  {
   "cell_type": "code",
   "execution_count": 54,
   "metadata": {},
   "outputs": [
    {
     "data": {
      "text/html": [
       "<table style=\"border: 2px solid white;\">\n",
       "<tr>\n",
       "<td style=\"vertical-align: top; border: 0px solid white\">\n",
       "<h3>Client</h3>\n",
       "<ul>\n",
       "  <li><b>Scheduler: </b>tcp://10.158.100.169:26758\n",
       "</ul>\n",
       "</td>\n",
       "<td style=\"vertical-align: top; border: 0px solid white\">\n",
       "<h3>Cluster</h3>\n",
       "<ul>\n",
       "  <li><b>Workers: </b>0</li>\n",
       "  <li><b>Cores: </b>0</li>\n",
       "  <li><b>Memory: </b>0 B</li>\n",
       "</ul>\n",
       "</td>\n",
       "</tr>\n",
       "</table>"
      ],
      "text/plain": [
       "<Client: scheduler='tcp://10.158.100.169:26758' processes=0 cores=0>"
      ]
     },
     "execution_count": 54,
     "metadata": {},
     "output_type": "execute_result"
    }
   ],
   "source": [
    "client"
   ]
  },
  {
   "cell_type": "code",
   "execution_count": 55,
   "metadata": {},
   "outputs": [
    {
     "name": "stderr",
     "output_type": "stream",
     "text": [
      "tornado.application - ERROR - Exception in callback functools.partial(<function wrap.<locals>.null_wrapper at 0x2b4d367838c8>, 32)\n",
      "Traceback (most recent call last):\n",
      "  File \"/share/code/abie/miniconda3/lib/python3.6/site-packages/tornado/ioloop.py\", line 758, in _run_callback\n",
      "    ret = callback()\n",
      "  File \"/share/code/abie/miniconda3/lib/python3.6/site-packages/tornado/stack_context.py\", line 300, in null_wrapper\n",
      "    return fn(*args, **kwargs)\n",
      "  File \"/share/code/abie/miniconda3/lib/python3.6/site-packages/dask_jobqueue/core.py\", line 416, in scale_up\n",
      "    self.start_workers(n - self._count_active_and_pending_workers())\n",
      "  File \"/share/code/abie/miniconda3/lib/python3.6/site-packages/dask_jobqueue/core.py\", line 330, in start_workers\n",
      "    out = self._submit_job(fn)\n",
      "  File \"/share/code/abie/miniconda3/lib/python3.6/site-packages/dask_jobqueue/core.py\", line 322, in _submit_job\n",
      "    return self._call(shlex.split(self.submit_command) + [script_filename])\n",
      "  File \"/share/code/abie/miniconda3/lib/python3.6/site-packages/dask_jobqueue/core.py\", line 383, in _call\n",
      "    cmd_str, out, err))\n",
      "RuntimeError: Command exited with non-zero exit code.\n",
      "Exit code: 1\n",
      "Command:\n",
      "qsub -terse /tmp/tmp926t8hgh.sh\n",
      "stdout:\n",
      "\n",
      "stderr:\n",
      "Unable to run job: '-l ${fthread}' required.\n",
      "Exiting.\n",
      "\n",
      "\n"
     ]
    }
   ],
   "source": [
    "cluster.scale(32)"
   ]
  },
  {
   "cell_type": "code",
   "execution_count": 51,
   "metadata": {},
   "outputs": [
    {
     "name": "stdout",
     "output_type": "stream",
     "text": [
      "#!/bin/bash\r\n",
      "\r\n",
      "#!/usr/bin/env bash\r\n",
      "#$ -N dask-worker\r\n",
      "#$ -q all.q\r\n",
      "#$ -P ihme_general\r\n",
      "#$ -l m_mem_free=20G\r\n",
      "#$ -l h_rt=00:30:00\r\n",
      "#$ -cwd\r\n",
      "#$ -j y\r\n",
      "\r\n",
      "\r\n",
      "\r\n",
      "/share/code/abie/miniconda3/bin/python -m distributed.cli.dask_worker tcp://10.158.100.169:16307 --nthreads 1 --nprocs 2 --memory-limit 10.00GB --name dask-worker--${JOB_ID}-- --death-timeout 60\r\n"
     ]
    }
   ],
   "source": [
    "!cat /tmp/tmpodroe78z.sh"
   ]
  },
  {
   "cell_type": "code",
   "execution_count": 29,
   "metadata": {},
   "outputs": [
    {
     "data": {
      "application/vnd.jupyter.widget-view+json": {
       "model_id": "0299f06841c0442f9b0212b6484a41a9",
       "version_major": 2,
       "version_minor": 0
      },
      "text/plain": [
       "VBox(children=(HTML(value='<h2>SGECluster</h2>'), HBox(children=(HTML(value='\\n<div>\\n  <style scoped>\\n    .d…"
      ]
     },
     "metadata": {},
     "output_type": "display_data"
    }
   ],
   "source": [
    "cluster"
   ]
  },
  {
   "cell_type": "code",
   "execution_count": null,
   "metadata": {},
   "outputs": [],
   "source": []
  }
 ],
 "metadata": {
  "kernelspec": {
   "display_name": "Python 3",
   "language": "python",
   "name": "python3"
  },
  "language_info": {
   "codemirror_mode": {
    "name": "ipython",
    "version": 3
   },
   "file_extension": ".py",
   "mimetype": "text/x-python",
   "name": "python",
   "nbconvert_exporter": "python",
   "pygments_lexer": "ipython3",
   "version": "3.6.7"
  }
 },
 "nbformat": 4,
 "nbformat_minor": 2
}
