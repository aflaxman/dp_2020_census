{
 "cells": [
  {
   "cell_type": "code",
   "execution_count": 1,
   "metadata": {},
   "outputs": [
    {
     "name": "stdout",
     "output_type": "stream",
     "text": [
      "Wed Jun 19 19:44:55 EDT 2019\n",
      "[Errno 2] No such file or directory: 'data'\n",
      "/media/Storage_2/Sam/data\n"
     ]
    }
   ],
   "source": [
    "import numpy as np, matplotlib.pyplot as plt, pandas as pd\n",
    "import sys\n",
    "import subprocess\n",
    "pd.set_option('display.max_rows', 10)\n",
    "!date\n",
    "\n",
    "%load_ext autoreload\n",
    "%autoreload 2\n",
    "%cd data"
   ]
  },
  {
   "cell_type": "code",
   "execution_count": 44,
   "metadata": {
    "scrolled": true
   },
   "outputs": [
    {
     "data": {
      "text/html": [
       "<div>\n",
       "<style scoped>\n",
       "    .dataframe tbody tr th:only-of-type {\n",
       "        vertical-align: middle;\n",
       "    }\n",
       "\n",
       "    .dataframe tbody tr th {\n",
       "        vertical-align: top;\n",
       "    }\n",
       "\n",
       "    .dataframe thead th {\n",
       "        text-align: right;\n",
       "    }\n",
       "</style>\n",
       "<table border=\"1\" class=\"dataframe\">\n",
       "  <thead>\n",
       "    <tr style=\"text-align: right;\">\n",
       "      <th></th>\n",
       "      <th>Unnamed: 0</th>\n",
       "      <th>SERIAL</th>\n",
       "      <th>AGE</th>\n",
       "      <th>HISPAN</th>\n",
       "      <th>RACE</th>\n",
       "      <th>STATEFIP</th>\n",
       "      <th>COUNTY</th>\n",
       "      <th>ENUMDIST</th>\n",
       "      <th>GQ</th>\n",
       "    </tr>\n",
       "  </thead>\n",
       "  <tbody>\n",
       "    <tr>\n",
       "      <th>4521</th>\n",
       "      <td>4521</td>\n",
       "      <td>12853523</td>\n",
       "      <td>23</td>\n",
       "      <td>0</td>\n",
       "      <td>1</td>\n",
       "      <td>25</td>\n",
       "      <td>10</td>\n",
       "      <td>50</td>\n",
       "      <td>1</td>\n",
       "    </tr>\n",
       "    <tr>\n",
       "      <th>4522</th>\n",
       "      <td>4522</td>\n",
       "      <td>12853523</td>\n",
       "      <td>20</td>\n",
       "      <td>0</td>\n",
       "      <td>1</td>\n",
       "      <td>25</td>\n",
       "      <td>10</td>\n",
       "      <td>50</td>\n",
       "      <td>1</td>\n",
       "    </tr>\n",
       "    <tr>\n",
       "      <th>4523</th>\n",
       "      <td>4523</td>\n",
       "      <td>12853523</td>\n",
       "      <td>0</td>\n",
       "      <td>0</td>\n",
       "      <td>1</td>\n",
       "      <td>25</td>\n",
       "      <td>10</td>\n",
       "      <td>50</td>\n",
       "      <td>1</td>\n",
       "    </tr>\n",
       "    <tr>\n",
       "      <th>4524</th>\n",
       "      <td>4524</td>\n",
       "      <td>12855138</td>\n",
       "      <td>67</td>\n",
       "      <td>0</td>\n",
       "      <td>1</td>\n",
       "      <td>25</td>\n",
       "      <td>10</td>\n",
       "      <td>100</td>\n",
       "      <td>1</td>\n",
       "    </tr>\n",
       "    <tr>\n",
       "      <th>4525</th>\n",
       "      <td>4525</td>\n",
       "      <td>12855265</td>\n",
       "      <td>34</td>\n",
       "      <td>0</td>\n",
       "      <td>1</td>\n",
       "      <td>25</td>\n",
       "      <td>10</td>\n",
       "      <td>120</td>\n",
       "      <td>1</td>\n",
       "    </tr>\n",
       "    <tr>\n",
       "      <th>...</th>\n",
       "      <td>...</td>\n",
       "      <td>...</td>\n",
       "      <td>...</td>\n",
       "      <td>...</td>\n",
       "      <td>...</td>\n",
       "      <td>...</td>\n",
       "      <td>...</td>\n",
       "      <td>...</td>\n",
       "      <td>...</td>\n",
       "    </tr>\n",
       "    <tr>\n",
       "      <th>7453633</th>\n",
       "      <td>10784</td>\n",
       "      <td>14104823</td>\n",
       "      <td>67</td>\n",
       "      <td>0</td>\n",
       "      <td>1</td>\n",
       "      <td>25</td>\n",
       "      <td>270</td>\n",
       "      <td>2200</td>\n",
       "      <td>1</td>\n",
       "    </tr>\n",
       "    <tr>\n",
       "      <th>7453634</th>\n",
       "      <td>10785</td>\n",
       "      <td>14104917</td>\n",
       "      <td>53</td>\n",
       "      <td>0</td>\n",
       "      <td>1</td>\n",
       "      <td>25</td>\n",
       "      <td>270</td>\n",
       "      <td>2200</td>\n",
       "      <td>1</td>\n",
       "    </tr>\n",
       "    <tr>\n",
       "      <th>7453635</th>\n",
       "      <td>10786</td>\n",
       "      <td>14104917</td>\n",
       "      <td>51</td>\n",
       "      <td>0</td>\n",
       "      <td>1</td>\n",
       "      <td>25</td>\n",
       "      <td>270</td>\n",
       "      <td>2200</td>\n",
       "      <td>1</td>\n",
       "    </tr>\n",
       "    <tr>\n",
       "      <th>7453636</th>\n",
       "      <td>10787</td>\n",
       "      <td>14104917</td>\n",
       "      <td>21</td>\n",
       "      <td>0</td>\n",
       "      <td>1</td>\n",
       "      <td>25</td>\n",
       "      <td>270</td>\n",
       "      <td>2200</td>\n",
       "      <td>1</td>\n",
       "    </tr>\n",
       "    <tr>\n",
       "      <th>7453637</th>\n",
       "      <td>10788</td>\n",
       "      <td>14104917</td>\n",
       "      <td>16</td>\n",
       "      <td>0</td>\n",
       "      <td>1</td>\n",
       "      <td>25</td>\n",
       "      <td>270</td>\n",
       "      <td>2200</td>\n",
       "      <td>1</td>\n",
       "    </tr>\n",
       "  </tbody>\n",
       "</table>\n",
       "<p>4325506 rows × 9 columns</p>\n",
       "</div>"
      ],
      "text/plain": [
       "         Unnamed: 0    SERIAL  AGE  HISPAN  RACE  STATEFIP  COUNTY  ENUMDIST  \\\n",
       "4521           4521  12853523   23       0     1        25      10        50   \n",
       "4522           4522  12853523   20       0     1        25      10        50   \n",
       "4523           4523  12853523    0       0     1        25      10        50   \n",
       "4524           4524  12855138   67       0     1        25      10       100   \n",
       "4525           4525  12855265   34       0     1        25      10       120   \n",
       "...             ...       ...  ...     ...   ...       ...     ...       ...   \n",
       "7453633       10784  14104823   67       0     1        25     270      2200   \n",
       "7453634       10785  14104917   53       0     1        25     270      2200   \n",
       "7453635       10786  14104917   51       0     1        25     270      2200   \n",
       "7453636       10787  14104917   21       0     1        25     270      2200   \n",
       "7453637       10788  14104917   16       0     1        25     270      2200   \n",
       "\n",
       "         GQ  \n",
       "4521      1  \n",
       "4522      1  \n",
       "4523      1  \n",
       "4524      1  \n",
       "4525      1  \n",
       "...      ..  \n",
       "7453633   1  \n",
       "7453634   1  \n",
       "7453635   1  \n",
       "7453636   1  \n",
       "7453637   1  \n",
       "\n",
       "[4325506 rows x 9 columns]"
      ]
     },
     "execution_count": 44,
     "metadata": {},
     "output_type": "execute_result"
    }
   ],
   "source": [
    "df = pd.read_csv('per_1940_raw_fips_13-25.csv', sep=',', comment='#',nrows=1100)\n",
    "iter_csv = pd.read_csv('per_1940_raw_fips_13-25.csv',sep=',', comment='#', iterator=True,  chunksize=100000)\n",
    "df = pd.concat([chunk[chunk['STATEFIP'] == 25 ] for chunk in iter_csv])\n",
    "df\n",
    "    "
   ]
  },
  {
   "cell_type": "code",
   "execution_count": 45,
   "metadata": {},
   "outputs": [
    {
     "data": {
      "text/plain": [
       "18    3152696\n",
       "17    1172810\n",
       "Name: AGE, dtype: int64"
      ]
     },
     "execution_count": 45,
     "metadata": {},
     "output_type": "execute_result"
    }
   ],
   "source": [
    "df['AGE']=df['AGE'].replace([i for i in range(17)], 17)\n",
    "df['AGE']=df['AGE'].replace([i for i in range(18,200)], 18)\n",
    "df.AGE.value_counts()"
   ]
  },
  {
   "cell_type": "code",
   "execution_count": 46,
   "metadata": {},
   "outputs": [],
   "source": [
    "df['HISPAN']=df['HISPAN'].replace([1,2,3,4], 2)\n",
    "df['HISPAN']=df['HISPAN'].replace([0], 1)"
   ]
  },
  {
   "cell_type": "code",
   "execution_count": 47,
   "metadata": {},
   "outputs": [],
   "source": [
    "df.to_csv('MA/the_real_MA', sep='\\t',columns=['AGE','HISPAN','RACE','STATEFIP','COUNTY','ENUMDIST','GQ'], header=['QAGE','CENHISP','CENRACE','TABBLKST','TABBLKCOU','ENUMDIST','RTYPE'])\n",
    "\n",
    "#newdf=pd.read_csv('GA/the_real_GA', sep='\\t', comment='#')\n",
    "#newdf.CENRACE.value_counts()"
   ]
  },
  {
   "cell_type": "code",
   "execution_count": 39,
   "metadata": {
    "scrolled": true
   },
   "outputs": [
    {
     "name": "stdout",
     "output_type": "stream",
     "text": [
      "/media/Storage_2/Sam/data\r\n"
     ]
    }
   ],
   "source": [
    "!pwd"
   ]
  },
  {
   "cell_type": "code",
   "execution_count": 43,
   "metadata": {},
   "outputs": [
    {
     "data": {
      "text/plain": [
       "1    3052091\n",
       "4      23935\n",
       "2      20736\n",
       "6      18510\n",
       "3      12860\n",
       "Name: GQ, dtype: int64"
      ]
     },
     "execution_count": 43,
     "metadata": {},
     "output_type": "execute_result"
    }
   ],
   "source": [
    "#what is going on with GQ? This is for GA. when epsilon =8, we get 570 ish in GQ\n",
    "df.GQ.value_counts()"
   ]
  },
  {
   "cell_type": "code",
   "execution_count": 48,
   "metadata": {},
   "outputs": [
    {
     "data": {
      "text/plain": [
       "1    4151559\n",
       "3      50457\n",
       "4      47072\n",
       "2      39480\n",
       "6      36938\n",
       "Name: GQ, dtype: int64"
      ]
     },
     "execution_count": 48,
     "metadata": {},
     "output_type": "execute_result"
    }
   ],
   "source": [
    "#what is going on with GQ? This is for MA. when epsilon =8, we get 1150 ish in GQ\n",
    "df.GQ.value_counts()"
   ]
  },
  {
   "cell_type": "code",
   "execution_count": null,
   "metadata": {},
   "outputs": [],
   "source": []
  }
 ],
 "metadata": {
  "kernelspec": {
   "display_name": "Python 3",
   "language": "python",
   "name": "python3"
  },
  "language_info": {
   "codemirror_mode": {
    "name": "ipython",
    "version": 3
   },
   "file_extension": ".py",
   "mimetype": "text/x-python",
   "name": "python",
   "nbconvert_exporter": "python",
   "pygments_lexer": "ipython3",
   "version": "3.6.8"
  }
 },
 "nbformat": 4,
 "nbformat_minor": 2
}
