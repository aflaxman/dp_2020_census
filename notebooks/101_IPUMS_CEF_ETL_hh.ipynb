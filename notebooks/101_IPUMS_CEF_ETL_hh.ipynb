{
 "cells": [
  {
   "cell_type": "code",
   "execution_count": 1,
   "metadata": {},
   "outputs": [
    {
     "name": "stdout",
     "output_type": "stream",
     "text": [
      "Mon Jun 10 12:17:27 PDT 2019\r\n"
     ]
    }
   ],
   "source": [
    "import numpy as np, matplotlib.pyplot as plt, pandas as pd\n",
    "pd.set_option('display.max_rows', 10)\n",
    "!date\n",
    "\n",
    "%load_ext autoreload\n",
    "%autoreload 2"
   ]
  },
  {
   "cell_type": "markdown",
   "metadata": {},
   "source": [
    "# Load IPUMS 1940 Census Microdata, and filter to just WA state\n",
    "\n",
    "Codebook: https://usa.ipums.org/usa/resources/1940CensusDASTestData/EXT1940USCB.cbk\n",
    "\n",
    "My previous approach failed, because the person rows do not include the location details.  Annoying!  How to address?  First make a household file, then make a person file, getting the location details from the household file."
   ]
  },
  {
   "cell_type": "code",
   "execution_count": 2,
   "metadata": {},
   "outputs": [],
   "source": [
    "with open('data/full_ipums_1940_census_colspecs.txt') as f:\n",
    "    colspec_str = f.read()"
   ]
  },
  {
   "cell_type": "code",
   "execution_count": 3,
   "metadata": {},
   "outputs": [],
   "source": [
    "colspecs = pd.Series()\n",
    "for line in colspec_str.split('\\n'):\n",
    "    name = line.split()[0].strip()\n",
    "    val_str = line.split()[2]\n",
    "    \n",
    "    start_str = val_str.split('-')[0]\n",
    "    start_index = int(start_str) - 1\n",
    "\n",
    "    end_str = val_str.split('-')[-1]\n",
    "    end_index = int(end_str)\n",
    "    \n",
    "#     print(name, val_str, (start_index, end_index))\n",
    "    colspecs[name] = (start_index, end_index)"
   ]
  },
  {
   "cell_type": "markdown",
   "metadata": {},
   "source": [
    "# Pass 1: Generate HH file for WA state"
   ]
  },
  {
   "cell_type": "code",
   "execution_count": null,
   "metadata": {
    "scrolled": true
   },
   "outputs": [
    {
     "name": "stdout",
     "output_type": "stream",
     "text": [
      "Processing chunk 0, a dataframe with shape (1000000, 155)\n",
      "Processing chunk 1, a dataframe with shape (1000000, 155)\n",
      "Processing chunk 2, a dataframe with shape (1000000, 155)\n",
      "Processing chunk 3, a dataframe with shape (1000000, 155)\n",
      "Processing chunk 4, a dataframe with shape (1000000, 155)\n",
      "Processing chunk 5, a dataframe with shape (1000000, 155)\n",
      "Processing chunk 6, a dataframe with shape (1000000, 155)\n",
      "Processing chunk 7, a dataframe with shape (1000000, 155)\n",
      "Processing chunk 8, a dataframe with shape (1000000, 155)\n",
      "Processing chunk 9, a dataframe with shape (1000000, 155)\n",
      "Processing chunk 10, a dataframe with shape (1000000, 155)\n",
      "Processing chunk 11, a dataframe with shape (1000000, 155)\n",
      "Processing chunk 12, a dataframe with shape (1000000, 155)\n",
      "Processing chunk 13, a dataframe with shape (1000000, 155)\n",
      "Processing chunk 14, a dataframe with shape (1000000, 155)\n",
      "Processing chunk 15, a dataframe with shape (1000000, 155)\n",
      "Processing chunk 16, a dataframe with shape (1000000, 155)\n",
      "Processing chunk 17, a dataframe with shape (1000000, 155)\n",
      "Processing chunk 18, a dataframe with shape (1000000, 155)\n",
      "Processing chunk 19, a dataframe with shape (1000000, 155)\n",
      "Processing chunk 20, a dataframe with shape (1000000, 155)\n",
      "Processing chunk 21, a dataframe with shape (1000000, 155)\n",
      "Processing chunk 22, a dataframe with shape (1000000, 155)\n",
      "Processing chunk 23, a dataframe with shape (1000000, 155)\n",
      "Processing chunk 24, a dataframe with shape (1000000, 155)\n",
      "Processing chunk 25, a dataframe with shape (1000000, 155)\n",
      "Processing chunk 26, a dataframe with shape (1000000, 155)\n",
      "Processing chunk 27, a dataframe with shape (1000000, 155)\n",
      "Processing chunk 28, a dataframe with shape (1000000, 155)\n",
      "Processing chunk 29, a dataframe with shape (1000000, 155)\n",
      "Processing chunk 30, a dataframe with shape (1000000, 155)\n",
      "Processing chunk 31, a dataframe with shape (1000000, 155)\n",
      "Processing chunk 32, a dataframe with shape (1000000, 155)\n",
      "Processing chunk 33, a dataframe with shape (1000000, 155)\n",
      "Processing chunk 34, a dataframe with shape (1000000, 155)\n",
      "Processing chunk 35, a dataframe with shape (1000000, 155)\n",
      "Processing chunk 36, a dataframe with shape (1000000, 155)\n",
      "Processing chunk 37, a dataframe with shape (1000000, 155)\n",
      "Processing chunk 38, a dataframe with shape (1000000, 155)\n",
      "Processing chunk 39, a dataframe with shape (1000000, 155)\n",
      "Processing chunk 40, a dataframe with shape (1000000, 155)\n",
      "Processing chunk 41, a dataframe with shape (1000000, 155)\n",
      "Processing chunk 42, a dataframe with shape (1000000, 155)\n",
      "Processing chunk 43, a dataframe with shape (1000000, 155)\n",
      "Processing chunk 44, a dataframe with shape (1000000, 155)\n",
      "Processing chunk 45, a dataframe with shape (1000000, 155)\n",
      "Processing chunk 46, a dataframe with shape (1000000, 155)\n",
      "Processing chunk 47, a dataframe with shape (1000000, 155)\n",
      "Processing chunk 48, a dataframe with shape (1000000, 155)\n",
      "Processing chunk 49, a dataframe with shape (1000000, 155)\n",
      "Processing chunk 50, a dataframe with shape (1000000, 155)\n",
      "Processing chunk 51, a dataframe with shape (1000000, 155)\n",
      "Processing chunk 52, a dataframe with shape (1000000, 155)\n",
      "Processing chunk 53, a dataframe with shape (1000000, 155)\n",
      "Processing chunk 54, a dataframe with shape (1000000, 155)\n",
      "Processing chunk 55, a dataframe with shape (1000000, 155)\n",
      "Processing chunk 56, a dataframe with shape (1000000, 155)\n",
      "Processing chunk 57, a dataframe with shape (1000000, 155)\n",
      "Processing chunk 58, a dataframe with shape (1000000, 155)\n",
      "Processing chunk 59, a dataframe with shape (1000000, 155)\n",
      "Processing chunk 60, a dataframe with shape (1000000, 155)\n",
      "Processing chunk 61, a dataframe with shape (1000000, 155)\n",
      "Processing chunk 62, a dataframe with shape (1000000, 155)\n",
      "Processing chunk 63, a dataframe with shape (1000000, 155)\n",
      "Processing chunk 64, a dataframe with shape (1000000, 155)\n",
      "Processing chunk 65, a dataframe with shape (1000000, 155)\n"
     ]
    }
   ],
   "source": [
    "%%time\n",
    "\n",
    "fname = '/home/j/Project/Models/us_census/EXT1940USCB.dat'\n",
    "\n",
    "iter = pd.read_fwf(fname, list(colspecs), header=None, names=colspecs.index,\n",
    "                   chunksize=1_000_000)\n",
    "df_list = []\n",
    "\n",
    "for i, df_i in enumerate(iter):\n",
    "    print(f'Processing chunk {i}, a dataframe with shape {df_i.shape}')\n",
    "    df_list.append(\n",
    "        df_i[df_i.RECTYPE == 'H'].filter(\n",
    "            ['RECTYPE', 'SERIAL', 'NUMPREC', 'STATEFIP',\n",
    "             'COUNTY', 'ENUMDIST', 'GQ',]) # 'AGE', 'HISPAN', 'RACE'])\n",
    "    )\n",
    "#     if i > 2: break"
   ]
  },
  {
   "cell_type": "code",
   "execution_count": null,
   "metadata": {},
   "outputs": [],
   "source": [
    "df = pd.concat(df_list)\n",
    "print(f'Loaded data for one state, a dataframe with shape {df.shape}')"
   ]
  },
  {
   "cell_type": "code",
   "execution_count": null,
   "metadata": {},
   "outputs": [],
   "source": [
    "# save relevant rows for comparison\n",
    "df.to_csv('/home/j/Project/Models/us_census/hh_1940_raw.csv')"
   ]
  },
  {
   "cell_type": "code",
   "execution_count": 12,
   "metadata": {},
   "outputs": [
    {
     "name": "stdout",
     "output_type": "stream",
     "text": [
      "-rw-r--r-- 1 abie Domain Users 1.3G Jun 10 22:43 /home/j/Project/Models/us_census/hh_1940_raw.csv\r\n"
     ]
    }
   ],
   "source": [
    "!ls -halt /home/j/Project/Models/us_census/hh_1940_raw.csv"
   ]
  },
  {
   "cell_type": "code",
   "execution_count": 13,
   "metadata": {},
   "outputs": [
    {
     "data": {
      "text/plain": [
       "(38492963, 7)"
      ]
     },
     "execution_count": 13,
     "metadata": {},
     "output_type": "execute_result"
    }
   ],
   "source": [
    "df.shape"
   ]
  },
  {
   "cell_type": "code",
   "execution_count": 14,
   "metadata": {},
   "outputs": [
    {
     "data": {
      "text/plain": [
       "36    4153082\n",
       "42    2732080\n",
       "6     2473589\n",
       "17    2432588\n",
       "39    2057163\n",
       "       ...   \n",
       "50     102075\n",
       "56      80146\n",
       "10      78974\n",
       "32      38878\n",
       "2       24277\n",
       "Name: STATEFIP, Length: 51, dtype: int64"
      ]
     },
     "execution_count": 14,
     "metadata": {},
     "output_type": "execute_result"
    }
   ],
   "source": [
    "df.STATEFIP.value_counts()"
   ]
  },
  {
   "cell_type": "code",
   "execution_count": 15,
   "metadata": {},
   "outputs": [
    {
     "data": {
      "text/plain": [
       "H    38492963\n",
       "Name: RECTYPE, dtype: int64"
      ]
     },
     "execution_count": 15,
     "metadata": {},
     "output_type": "execute_result"
    }
   ],
   "source": [
    "df.RECTYPE.value_counts()"
   ]
  },
  {
   "cell_type": "code",
   "execution_count": 16,
   "metadata": {},
   "outputs": [
    {
     "data": {
      "text/plain": [
       "1    36201432\n",
       "6      863664\n",
       "3      763242\n",
       "4      530445\n",
       "2      134180\n",
       "Name: GQ, dtype: int64"
      ]
     },
     "execution_count": 16,
     "metadata": {},
     "output_type": "execute_result"
    }
   ],
   "source": [
    "df.GQ.value_counts()"
   ]
  },
  {
   "cell_type": "code",
   "execution_count": null,
   "metadata": {},
   "outputs": [],
   "source": []
  }
 ],
 "metadata": {
  "kernelspec": {
   "display_name": "Python 3",
   "language": "python",
   "name": "python3"
  },
  "language_info": {
   "codemirror_mode": {
    "name": "ipython",
    "version": 3
   },
   "file_extension": ".py",
   "mimetype": "text/x-python",
   "name": "python",
   "nbconvert_exporter": "python",
   "pygments_lexer": "ipython3",
   "version": "3.6.7"
  }
 },
 "nbformat": 4,
 "nbformat_minor": 2
}
