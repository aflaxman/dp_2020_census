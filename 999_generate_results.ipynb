{
 "cells": [
  {
   "cell_type": "code",
   "execution_count": 1,
   "metadata": {},
   "outputs": [
    {
     "name": "stdout",
     "output_type": "stream",
     "text": [
      "Wed Feb 12 08:26:36 PST 2020\r\n"
     ]
    }
   ],
   "source": [
    "import numpy as np, matplotlib.pyplot as plt, pandas as pd\n",
    "pd.set_option('display.max_rows', 8)\n",
    "!date\n",
    "\n",
    "%load_ext autoreload\n",
    "%autoreload 2"
   ]
  },
  {
   "cell_type": "markdown",
   "metadata": {},
   "source": [
    "# Generate results and store them in json files"
   ]
  },
  {
   "cell_type": "code",
   "execution_count": 2,
   "metadata": {},
   "outputs": [],
   "source": [
    "import dp_2020_census.data, dp_2020_census.model"
   ]
  },
  {
   "cell_type": "code",
   "execution_count": 3,
   "metadata": {},
   "outputs": [],
   "source": [
    "df_orig = dp_2020_census.data.load_orig_counts()"
   ]
  },
  {
   "cell_type": "code",
   "execution_count": 4,
   "metadata": {},
   "outputs": [],
   "source": [
    "epsilon = '1.0'\n",
    "run = 1\n",
    "df_new = dp_2020_census.data.load_dp_counts(epsilon, run)"
   ]
  },
  {
   "cell_type": "code",
   "execution_count": 5,
   "metadata": {},
   "outputs": [],
   "source": [
    "stratification_cols = ['state', 'county', 'enum_dist',]\n",
    "error = dp_2020_census.model.perturbation_error(df_orig, df_new, stratification_cols)"
   ]
  },
  {
   "cell_type": "code",
   "execution_count": 6,
   "metadata": {},
   "outputs": [],
   "source": [
    "error.index = df_orig.groupby(stratification_cols)['count'].sum()"
   ]
  },
  {
   "cell_type": "code",
   "execution_count": 7,
   "metadata": {},
   "outputs": [
    {
     "data": {
      "text/plain": [
       "15.0"
      ]
     },
     "execution_count": 7,
     "metadata": {},
     "output_type": "execute_result"
    }
   ],
   "source": [
    "tc_error_enum_dist = np.median(np.absolute(error))\n",
    "tc_error_enum_dist"
   ]
  },
  {
   "cell_type": "code",
   "execution_count": 8,
   "metadata": {},
   "outputs": [
    {
     "data": {
      "text/plain": [
       "52.0"
      ]
     },
     "execution_count": 8,
     "metadata": {},
     "output_type": "execute_result"
    }
   ],
   "source": [
    "np.percentile(np.absolute(error), 95)"
   ]
  },
  {
   "cell_type": "code",
   "execution_count": 9,
   "metadata": {
    "scrolled": true
   },
   "outputs": [
    {
     "name": "stdout",
     "output_type": "stream",
     "text": [
      "tc_county_0_25 - 0.0 81.0 140.35 277.0 1020\n",
      "tc_county_0_50 - 0.0 45.0 76.82 149.0 656\n",
      "tc_county_0_75 - 0.0 31.0 52.76 103.0 395\n",
      "tc_county_1_0 - 0.0 24.0 41.07 81.0 397\n",
      "tc_county_2_0 - 0.0 13.0 22.02 43.0 210\n",
      "tc_county_4_0 - 0.0 7.0 11.5 22.0 88\n",
      "tc_county_6_0 - 0.0 5.0 7.93 16.0 66\n",
      "tc_county_8_0 - 0.0 4.0 6.44 12.0 185\n"
     ]
    },
    {
     "data": {
      "text/plain": [
       "{'tc_county_0_25_mae': '81',\n",
       " 'tc_county_0_25_pct95': '277',\n",
       " 'tc_county_0_25_max_ae': '1020',\n",
       " 'tc_county_0_25_rmse': '140',\n",
       " 'tc_county_0_50_mae': '45',\n",
       " 'tc_county_0_50_pct95': '149',\n",
       " 'tc_county_0_50_max_ae': '656',\n",
       " 'tc_county_0_50_rmse': '77',\n",
       " 'tc_county_0_75_mae': '31',\n",
       " 'tc_county_0_75_pct95': '103',\n",
       " 'tc_county_0_75_max_ae': '395',\n",
       " 'tc_county_0_75_rmse': '53',\n",
       " 'tc_county_1_0_mae': '24',\n",
       " 'tc_county_1_0_pct95': '81',\n",
       " 'tc_county_1_0_max_ae': '397',\n",
       " 'tc_county_1_0_rmse': '41',\n",
       " 'tc_county_2_0_mae': '13',\n",
       " 'tc_county_2_0_pct95': '43',\n",
       " 'tc_county_2_0_max_ae': '210',\n",
       " 'tc_county_2_0_rmse': '22',\n",
       " 'tc_county_4_0_mae': '7',\n",
       " 'tc_county_4_0_pct95': '22',\n",
       " 'tc_county_4_0_max_ae': '88',\n",
       " 'tc_county_4_0_rmse': '12',\n",
       " 'tc_county_6_0_mae': '5',\n",
       " 'tc_county_6_0_pct95': '16',\n",
       " 'tc_county_6_0_max_ae': '66',\n",
       " 'tc_county_6_0_rmse': '8',\n",
       " 'tc_county_8_0_mae': '4',\n",
       " 'tc_county_8_0_pct95': '12',\n",
       " 'tc_county_8_0_max_ae': '185',\n",
       " 'tc_county_8_0_rmse': '6'}"
      ]
     },
     "execution_count": 9,
     "metadata": {},
     "output_type": "execute_result"
    }
   ],
   "source": [
    "def find_dp_mae(stratification_cols=['state', 'county', 'enum_dist'], result_name='tc_enum_dist'):\n",
    "    results = {}\n",
    "\n",
    "    df_orig = dp_2020_census.data.load_orig_counts()\n",
    "\n",
    "\n",
    "    for epsilon in '0.25 0.50 0.75 1.0 2.0 4.0 6.0 8.0'.split():\n",
    "        epsilon_underscore = epsilon.replace('.', '_')\n",
    "        key = f'{result_name}_{epsilon_underscore}'\n",
    "        print(key, end=' - ')\n",
    "    \n",
    "        error = []\n",
    "\n",
    "        for run in '1234':\n",
    "            df_new = dp_2020_census.data.load_dp_counts(epsilon, run)\n",
    "            error_run = dp_2020_census.model.perturbation_error(df_orig, df_new, stratification_cols)\n",
    "            error += list(error_run)\n",
    "        \n",
    "        mae = np.median(np.absolute(error))\n",
    "        pct95 = np.quantile(np.absolute(error), 0.95)\n",
    "        max_ae = max(np.absolute(error))\n",
    "        rmse = np.sqrt(np.mean(np.array(error)**2))\n",
    "        \n",
    "        results[f'{key}_mae'] = f'{mae:.0f}'\n",
    "        results[f'{key}_pct95'] = f'{pct95:.0f}'\n",
    "        results[f'{key}_max_ae'] = f'{max_ae:.0f}'\n",
    "        results[f'{key}_rmse'] = f'{rmse:.0f}'\n",
    "        \n",
    "        print(np.round(np.mean(error),2), np.round(mae,2),\n",
    "              np.round(rmse, 2), np.round(pct95,1),\n",
    "              max_ae)\n",
    "\n",
    "    return results\n",
    "find_dp_mae(['state', 'county'], 'tc_county')"
   ]
  },
  {
   "cell_type": "code",
   "execution_count": 10,
   "metadata": {
    "scrolled": true
   },
   "outputs": [
    {
     "name": "stdout",
     "output_type": "stream",
     "text": [
      "tc_state_0_25 - 0.0 0.0 0.0 0.0 0\n",
      "tc_state_0_50 - 0.0 0.0 0.0 0.0 0\n",
      "tc_state_0_75 - 0.0 0.0 0.0 0.0 0\n",
      "tc_state_1_0 - 0.0 0.0 0.0 0.0 0\n",
      "tc_state_2_0 - 0.0 0.0 0.0 0.0 0\n",
      "tc_state_4_0 - 0.0 0.0 0.0 0.0 0\n",
      "tc_state_6_0 - 0.0 0.0 0.0 0.0 0\n",
      "tc_state_8_0 - 0.0 0.0 0.0 0.0 0\n",
      "tc_county_0_25 - 0.0 81.0 140.35 277.0 1020\n",
      "tc_county_0_50 - 0.0 45.0 76.82 149.0 656\n",
      "tc_county_0_75 - 0.0 31.0 52.76 103.0 395\n",
      "tc_county_1_0 - 0.0 24.0 41.07 81.0 397\n",
      "tc_county_2_0 - 0.0 13.0 22.02 43.0 210\n",
      "tc_county_4_0 - 0.0 7.0 11.5 22.0 88\n",
      "tc_county_6_0 - 0.0 5.0 7.93 16.0 66\n",
      "tc_county_8_0 - 0.0 4.0 6.44 12.0 185\n",
      "tc_enum_dist_0_25 - 0.0 56.0 93.11 190.0 688\n",
      "tc_enum_dist_0_50 - 0.0 29.0 49.12 100.0 369\n",
      "tc_enum_dist_0_75 - 0.0 20.0 33.66 68.0 285\n",
      "tc_enum_dist_1_0 - 0.0 15.0 25.65 52.0 344\n",
      "tc_enum_dist_2_0 - 0.0 8.0 13.49 27.0 115\n",
      "tc_enum_dist_4_0 - 0.0 4.0 7.1 14.0 57\n",
      "tc_enum_dist_6_0 - 0.0 3.0 4.86 10.0 45\n",
      "tc_enum_dist_8_0 - 0.0 2.0 3.72 7.0 39\n",
      "sc_state_0_25 - 0.0 18.0 49.53 110.0 348.0\n",
      "sc_state_0_50 - 0.0 13.0 28.92 61.0 220.0\n",
      "sc_state_0_75 - 0.0 9.0 19.36 41.0 117.0\n",
      "sc_state_1_0 - 0.0 7.0 14.01 29.0 91.0\n",
      "sc_state_2_0 - 0.0 4.0 7.39 16.0 37.0\n",
      "sc_state_4_0 - 0.0 2.0 3.95 8.0 23.0\n",
      "sc_state_6_0 - 0.0 1.0 2.75 6.0 19.0\n",
      "sc_state_8_0 - 0.0 1.0 2.01 4.0 9.0\n",
      "sc_county_0_25 - 0.0 16.0 48.33 107.0 431.0\n",
      "sc_county_0_50 - 0.0 11.0 26.08 56.0 298.0\n",
      "sc_county_0_75 - 0.0 8.0 17.79 38.0 160.0\n",
      "sc_county_1_0 - 0.0 6.0 13.54 29.0 165.0\n",
      "sc_county_2_0 - 0.0 4.0 7.17 15.0 73.0\n",
      "sc_county_4_0 - 0.0 2.0 3.8 8.0 46.0\n",
      "sc_county_6_0 - 0.0 1.0 2.62 5.0 25.0\n",
      "sc_county_8_0 - 0.0 1.0 2.02 4.0 24.0\n",
      "sc_enum_dist_0_25 - 0.0 17.0 49.14 107.0 1221.0\n",
      "sc_enum_dist_0_50 - 0.0 10.0 26.0 56.0 670.0\n",
      "sc_enum_dist_0_75 - 0.0 7.0 17.79 38.0 421.0\n",
      "sc_enum_dist_1_0 - 0.0 6.0 13.6 29.0 295.0\n",
      "sc_enum_dist_2_0 - 0.0 4.0 7.16 15.0 149.0\n",
      "sc_enum_dist_4_0 - 0.0 2.0 3.79 8.0 101.0\n",
      "sc_enum_dist_6_0 - 0.0 1.0 2.62 5.0 63.0\n",
      "sc_enum_dist_8_0 - 0.0 1.0 2.01 4.0 43.0\n"
     ]
    },
    {
     "data": {
      "text/plain": [
       "192"
      ]
     },
     "execution_count": 10,
     "metadata": {},
     "output_type": "execute_result"
    }
   ],
   "source": [
    "results = {}\n",
    "\n",
    "results.update(find_dp_mae(['state'], 'tc_state'))\n",
    "results.update(find_dp_mae(['state', 'county'], 'tc_county'))\n",
    "results.update(find_dp_mae(['state', 'county', 'enum_dist'], 'tc_enum_dist'))\n",
    "\n",
    "results.update(find_dp_mae(['state', 'age', 'race', 'eth'], 'sc_state'))\n",
    "results.update(find_dp_mae(['state', 'county', 'age', 'race', 'eth'], 'sc_county'))\n",
    "results.update(find_dp_mae(['state', 'county', 'enum_dist', 'age', 'race', 'eth'], 'sc_enum_dist'))\n",
    "\n",
    "len(results)"
   ]
  },
  {
   "cell_type": "code",
   "execution_count": 11,
   "metadata": {},
   "outputs": [],
   "source": [
    "import json\n",
    "with open('/ihme/homes/abie/projects/2019/dp_2020_census/results_dp_error.json', 'w') as f:\n",
    "    json.dump(results, f, indent=4)"
   ]
  },
  {
   "cell_type": "code",
   "execution_count": 12,
   "metadata": {},
   "outputs": [
    {
     "data": {
      "text/plain": [
       "'56'"
      ]
     },
     "execution_count": 12,
     "metadata": {},
     "output_type": "execute_result"
    }
   ],
   "source": [
    "results['tc_enum_dist_0_25_mae']"
   ]
  },
  {
   "cell_type": "markdown",
   "metadata": {},
   "source": [
    "# Confirm that the total count invariant worked at the state level"
   ]
  },
  {
   "cell_type": "code",
   "execution_count": 13,
   "metadata": {},
   "outputs": [
    {
     "name": "stdout",
     "output_type": "stream",
     "text": [
      "tc_state_0_25 - 0.0 0.0 0.0 0.0 0\n",
      "tc_state_0_50 - 0.0 0.0 0.0 0.0 0\n",
      "tc_state_0_75 - 0.0 0.0 0.0 0.0 0\n",
      "tc_state_1_0 - 0.0 0.0 0.0 0.0 0\n",
      "tc_state_2_0 - 0.0 0.0 0.0 0.0 0\n",
      "tc_state_4_0 - 0.0 0.0 0.0 0.0 0\n",
      "tc_state_6_0 - 0.0 0.0 0.0 0.0 0\n",
      "tc_state_8_0 - 0.0 0.0 0.0 0.0 0\n"
     ]
    },
    {
     "data": {
      "text/plain": [
       "tc_state_0_25_mae       0\n",
       "tc_state_0_25_pct95     0\n",
       "tc_state_0_25_max_ae    0\n",
       "tc_state_0_25_rmse      0\n",
       "tc_state_0_50_mae       0\n",
       "                       ..\n",
       "tc_state_6_0_rmse       0\n",
       "tc_state_8_0_mae        0\n",
       "tc_state_8_0_pct95      0\n",
       "tc_state_8_0_max_ae     0\n",
       "tc_state_8_0_rmse       0\n",
       "Length: 32, dtype: object"
      ]
     },
     "execution_count": 13,
     "metadata": {},
     "output_type": "execute_result"
    }
   ],
   "source": [
    "state_tc = find_dp_mae(['state',], 'tc_state')\n",
    "pd.Series(state_tc)"
   ]
  },
  {
   "cell_type": "code",
   "execution_count": 14,
   "metadata": {},
   "outputs": [],
   "source": [
    "assert np.all(pd.Series(state_tc).astype(float) == 0), \\\n",
    "    'State invariant should make total counts at state-level be zero error'"
   ]
  },
  {
   "cell_type": "markdown",
   "metadata": {},
   "source": [
    "# Now calculate the empirical privacy loss"
   ]
  },
  {
   "cell_type": "code",
   "execution_count": 15,
   "metadata": {},
   "outputs": [],
   "source": [
    "def find_dp_epl(stratification_cols=['state', 'county', 'enum_dist'], result_name='tc_privacy_loss_enum_dist'):\n",
    "    results = {}\n",
    "\n",
    "    df_orig = dp_2020_census.data.load_orig_counts()\n",
    "\n",
    "\n",
    "    for epsilon in '0.25 0.50 0.75 1.0 2.0 4.0 6.0 8.0'.split():\n",
    "        epsilon_underscore = epsilon.replace('.', '_')\n",
    "        key = f'{result_name}_{epsilon_underscore}'\n",
    "        print(key, end=' - ')\n",
    "    \n",
    "        error = []\n",
    "\n",
    "        for run in '1234':\n",
    "            df_new = dp_2020_census.data.load_dp_counts(epsilon, run)\n",
    "            error_run = dp_2020_census.model.perturbation_error(df_orig, df_new, stratification_cols)\n",
    "            error += list(error_run)\n",
    "        \n",
    "        error = pd.Series(error)\n",
    "        df_epl = dp_2020_census.model.empirical_privacy_loss(error, bandwidth=.1,\n",
    "                                                       est_range_percentile=95, est_range_multiplier=1.0)\n",
    "        max_abs = max(np.absolute(df_epl.smooth_epl))\n",
    "\n",
    "        results[f'{key}_max_abs'] = f'{max_abs:.3f}'\n",
    "        \n",
    "        print(results[f'{key}_max_abs'])\n",
    "\n",
    "    return results\n",
    "# find_dp_epl(['state',], 'tc_privacy_loss_state')  # this fails because of invariant"
   ]
  },
  {
   "cell_type": "code",
   "execution_count": 16,
   "metadata": {},
   "outputs": [
    {
     "name": "stdout",
     "output_type": "stream",
     "text": [
      "tc_privacy_loss_county_0_25 - "
     ]
    },
    {
     "name": "stderr",
     "output_type": "stream",
     "text": [
      "/ihme/homes/abie/projects/2019/dp_2020_census/dp_2020_census/model.py:85: RuntimeWarning: divide by zero encountered in log\n",
      "  df['epl_cusum'] = np.log(ccusum[1:] / ccusum[:-1])\n"
     ]
    },
    {
     "name": "stdout",
     "output_type": "stream",
     "text": [
      "0.014\n",
      "tc_privacy_loss_county_0_50 - 0.035\n",
      "tc_privacy_loss_county_0_75 - 0.038\n",
      "tc_privacy_loss_county_1_0 - 0.048\n",
      "tc_privacy_loss_county_2_0 - 0.094\n",
      "tc_privacy_loss_county_4_0 - 0.169\n",
      "tc_privacy_loss_county_6_0 - 0.225\n",
      "tc_privacy_loss_county_8_0 - 0.318\n",
      "tc_privacy_loss_enum_dist_0_25 - 0.017\n",
      "tc_privacy_loss_enum_dist_0_50 - 0.033\n",
      "tc_privacy_loss_enum_dist_0_75 - 0.046\n",
      "tc_privacy_loss_enum_dist_1_0 - 0.064\n",
      "tc_privacy_loss_enum_dist_2_0 - 0.116\n",
      "tc_privacy_loss_enum_dist_4_0 - 0.219\n",
      "tc_privacy_loss_enum_dist_6_0 - 0.299\n",
      "tc_privacy_loss_enum_dist_8_0 - 0.381\n",
      "sc_privacy_loss_state_0_25 - 0.119\n",
      "sc_privacy_loss_state_0_50 - 0.104\n",
      "sc_privacy_loss_state_0_75 - 0.166\n",
      "sc_privacy_loss_state_1_0 - 0.166\n",
      "sc_privacy_loss_state_2_0 - 0.300\n",
      "sc_privacy_loss_state_4_0 - 0.453\n",
      "sc_privacy_loss_state_6_0 - 0.541\n",
      "sc_privacy_loss_state_8_0 - 0.742\n",
      "sc_privacy_loss_county_0_25 - 0.126\n",
      "sc_privacy_loss_county_0_50 - 0.165\n",
      "sc_privacy_loss_county_0_75 - 0.150\n",
      "sc_privacy_loss_county_1_0 - 0.164\n",
      "sc_privacy_loss_county_2_0 - 0.253\n",
      "sc_privacy_loss_county_4_0 - 0.445\n",
      "sc_privacy_loss_county_6_0 - 0.626\n",
      "sc_privacy_loss_county_8_0 - 0.722\n",
      "sc_privacy_loss_enum_dist_0_25 - 0.139\n",
      "sc_privacy_loss_enum_dist_0_50 - 0.200\n",
      "sc_privacy_loss_enum_dist_0_75 - 0.225\n",
      "sc_privacy_loss_enum_dist_1_0 - 0.241\n",
      "sc_privacy_loss_enum_dist_2_0 - 0.280\n",
      "sc_privacy_loss_enum_dist_4_0 - 0.450\n",
      "sc_privacy_loss_enum_dist_6_0 - 0.652\n",
      "sc_privacy_loss_enum_dist_8_0 - 0.743\n"
     ]
    }
   ],
   "source": [
    "results = {}\n",
    "\n",
    "# results.update(find_dp_epl(['state'], 'tc_state'))\n",
    "results.update(find_dp_epl(['state', 'county'], 'tc_privacy_loss_county'))\n",
    "results.update(find_dp_epl(['state', 'county', 'enum_dist'], 'tc_privacy_loss_enum_dist'))\n",
    "\n",
    "results.update(find_dp_epl(['state', 'age', 'race', 'eth'], 'sc_privacy_loss_state'))\n",
    "results.update(find_dp_epl(['state', 'county', 'age', 'race', 'eth'], 'sc_privacy_loss_county'))\n",
    "results.update(find_dp_epl(['state', 'county', 'enum_dist', 'age', 'race', 'eth'],\n",
    "                           'sc_privacy_loss_enum_dist'))\n",
    "\n",
    "with open('/ihme/homes/abie/projects/2019/dp_2020_census/results_dp_epl.json', 'w') as f:\n",
    "    json.dump(results, f, indent=4)"
   ]
  },
  {
   "cell_type": "code",
   "execution_count": null,
   "metadata": {},
   "outputs": [],
   "source": []
  },
  {
   "cell_type": "code",
   "execution_count": null,
   "metadata": {},
   "outputs": [],
   "source": []
  },
  {
   "cell_type": "code",
   "execution_count": null,
   "metadata": {},
   "outputs": [],
   "source": []
  },
  {
   "cell_type": "code",
   "execution_count": null,
   "metadata": {},
   "outputs": [],
   "source": []
  },
  {
   "cell_type": "code",
   "execution_count": null,
   "metadata": {},
   "outputs": [],
   "source": []
  }
 ],
 "metadata": {
  "kernelspec": {
   "display_name": "dismod_mr",
   "language": "python",
   "name": "dismod_mr"
  },
  "language_info": {
   "codemirror_mode": {
    "name": "ipython",
    "version": 3
   },
   "file_extension": ".py",
   "mimetype": "text/x-python",
   "name": "python",
   "nbconvert_exporter": "python",
   "pygments_lexer": "ipython3",
   "version": "3.6.7"
  }
 },
 "nbformat": 4,
 "nbformat_minor": 2
}
