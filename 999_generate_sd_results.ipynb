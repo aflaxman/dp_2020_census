{
 "cells": [
  {
   "cell_type": "code",
   "execution_count": 1,
   "metadata": {},
   "outputs": [
    {
     "name": "stdout",
     "output_type": "stream",
     "text": [
      "Thu Sep 19 15:30:41 PDT 2019\r\n"
     ]
    }
   ],
   "source": [
    "import numpy as np, matplotlib.pyplot as plt, pandas as pd\n",
    "pd.set_option('display.max_rows', 8)\n",
    "!date\n",
    "\n",
    "%load_ext autoreload\n",
    "%autoreload 2"
   ]
  },
  {
   "cell_type": "code",
   "execution_count": 2,
   "metadata": {},
   "outputs": [
    {
     "data": {
      "text/plain": [
       "<matplotlib.rc_context at 0x7fc8844c4be0>"
      ]
     },
     "execution_count": 2,
     "metadata": {},
     "output_type": "execute_result"
    }
   ],
   "source": [
    "plt.xkcd()"
   ]
  },
  {
   "cell_type": "markdown",
   "metadata": {},
   "source": [
    "# Accuracy and privacy as a function of sample-down percentage"
   ]
  },
  {
   "cell_type": "code",
   "execution_count": 3,
   "metadata": {},
   "outputs": [],
   "source": [
    "import dp_2020_census.data, dp_2020_census.model"
   ]
  },
  {
   "cell_type": "code",
   "execution_count": 4,
   "metadata": {},
   "outputs": [],
   "source": [
    "df_orig = dp_2020_census.data.load_orig_counts()"
   ]
  },
  {
   "cell_type": "code",
   "execution_count": 5,
   "metadata": {},
   "outputs": [],
   "source": [
    "sample_frac = 0.5\n",
    "seed = 12345\n",
    "df_new = dp_2020_census.data.simulate_sample_down_counts(df_orig, sample_frac, seed)"
   ]
  },
  {
   "cell_type": "code",
   "execution_count": 6,
   "metadata": {},
   "outputs": [
    {
     "data": {
      "text/html": [
       "<div>\n",
       "<style scoped>\n",
       "    .dataframe tbody tr th:only-of-type {\n",
       "        vertical-align: middle;\n",
       "    }\n",
       "\n",
       "    .dataframe tbody tr th {\n",
       "        vertical-align: top;\n",
       "    }\n",
       "\n",
       "    .dataframe thead th {\n",
       "        text-align: right;\n",
       "    }\n",
       "</style>\n",
       "<table border=\"1\" class=\"dataframe\">\n",
       "  <thead>\n",
       "    <tr style=\"text-align: right;\">\n",
       "      <th></th>\n",
       "      <th>orig</th>\n",
       "      <th>new</th>\n",
       "    </tr>\n",
       "    <tr>\n",
       "      <th>race</th>\n",
       "      <th></th>\n",
       "      <th></th>\n",
       "    </tr>\n",
       "  </thead>\n",
       "  <tbody>\n",
       "    <tr>\n",
       "      <th>1</th>\n",
       "      <td>118803172.0</td>\n",
       "      <td>118800378.0</td>\n",
       "    </tr>\n",
       "    <tr>\n",
       "      <th>2</th>\n",
       "      <td>12663581.0</td>\n",
       "      <td>12665450.0</td>\n",
       "    </tr>\n",
       "    <tr>\n",
       "      <th>3</th>\n",
       "      <td>340744.0</td>\n",
       "      <td>340968.0</td>\n",
       "    </tr>\n",
       "    <tr>\n",
       "      <th>4</th>\n",
       "      <td>142490.0</td>\n",
       "      <td>142838.0</td>\n",
       "    </tr>\n",
       "    <tr>\n",
       "      <th>5</th>\n",
       "      <td>281385.0</td>\n",
       "      <td>281684.0</td>\n",
       "    </tr>\n",
       "    <tr>\n",
       "      <th>6</th>\n",
       "      <td>173394.0</td>\n",
       "      <td>173448.0</td>\n",
       "    </tr>\n",
       "  </tbody>\n",
       "</table>\n",
       "</div>"
      ],
      "text/plain": [
       "             orig          new\n",
       "race                          \n",
       "1     118803172.0  118800378.0\n",
       "2      12663581.0   12665450.0\n",
       "3        340744.0     340968.0\n",
       "4        142490.0     142838.0\n",
       "5        281385.0     281684.0\n",
       "6        173394.0     173448.0"
      ]
     },
     "execution_count": 6,
     "metadata": {},
     "output_type": "execute_result"
    }
   ],
   "source": [
    "def my_compare(df_orig, df_new, col):\n",
    "    a = df_orig.groupby(col)['count'].sum()\n",
    "    a.name = 'orig'\n",
    "    \n",
    "    b = df_new.groupby(col)['count'].sum()\n",
    "    b.name = 'new'\n",
    "    \n",
    "    return pd.DataFrame([a,b]).T\n",
    "my_compare(df_orig, df_new, 'race')"
   ]
  },
  {
   "cell_type": "code",
   "execution_count": 7,
   "metadata": {},
   "outputs": [
    {
     "data": {
      "text/html": [
       "<div>\n",
       "<style scoped>\n",
       "    .dataframe tbody tr th:only-of-type {\n",
       "        vertical-align: middle;\n",
       "    }\n",
       "\n",
       "    .dataframe tbody tr th {\n",
       "        vertical-align: top;\n",
       "    }\n",
       "\n",
       "    .dataframe thead th {\n",
       "        text-align: right;\n",
       "    }\n",
       "</style>\n",
       "<table border=\"1\" class=\"dataframe\">\n",
       "  <thead>\n",
       "    <tr style=\"text-align: right;\">\n",
       "      <th></th>\n",
       "      <th>orig</th>\n",
       "      <th>new</th>\n",
       "    </tr>\n",
       "    <tr>\n",
       "      <th>eth</th>\n",
       "      <th></th>\n",
       "      <th></th>\n",
       "    </tr>\n",
       "  </thead>\n",
       "  <tbody>\n",
       "    <tr>\n",
       "      <th>1</th>\n",
       "      <td>130202121.0</td>\n",
       "      <td>130201744.0</td>\n",
       "    </tr>\n",
       "    <tr>\n",
       "      <th>2</th>\n",
       "      <td>2202645.0</td>\n",
       "      <td>2203022.0</td>\n",
       "    </tr>\n",
       "  </tbody>\n",
       "</table>\n",
       "</div>"
      ],
      "text/plain": [
       "            orig          new\n",
       "eth                          \n",
       "1    130202121.0  130201744.0\n",
       "2      2202645.0    2203022.0"
      ]
     },
     "execution_count": 7,
     "metadata": {},
     "output_type": "execute_result"
    }
   ],
   "source": [
    "my_compare(df_orig, df_new, 'eth')"
   ]
  },
  {
   "cell_type": "code",
   "execution_count": 8,
   "metadata": {},
   "outputs": [],
   "source": [
    "error = dp_2020_census.model.perturbation_error(df_orig, df_new, ['state', 'county',])"
   ]
  },
  {
   "cell_type": "code",
   "execution_count": 9,
   "metadata": {},
   "outputs": [
    {
     "data": {
      "text/plain": [
       "90.0"
      ]
     },
     "execution_count": 9,
     "metadata": {},
     "output_type": "execute_result"
    }
   ],
   "source": [
    "tc_error_50pct_sample = np.median(np.absolute(error))\n",
    "tc_error_50pct_sample"
   ]
  },
  {
   "cell_type": "code",
   "execution_count": 10,
   "metadata": {},
   "outputs": [
    {
     "data": {
      "text/plain": [
       "372.64999999999964"
      ]
     },
     "execution_count": 10,
     "metadata": {},
     "output_type": "execute_result"
    }
   ],
   "source": [
    "np.percentile(np.absolute(error), 95)"
   ]
  },
  {
   "cell_type": "code",
   "execution_count": 11,
   "metadata": {},
   "outputs": [
    {
     "name": "stderr",
     "output_type": "stream",
     "text": [
      "/ihme/homes/abie/projects/2019/dp_2020_census/dp_2020_census/model.py:76: RuntimeWarning: divide by zero encountered in true_divide\n",
      "  ratio = f_empirical[:-1] / f_empirical[1:]\n",
      "/ihme/homes/abie/projects/2019/dp_2020_census/dp_2020_census/model.py:76: RuntimeWarning: invalid value encountered in true_divide\n",
      "  ratio = f_empirical[:-1] / f_empirical[1:]\n",
      "/ihme/homes/abie/projects/2019/dp_2020_census/dp_2020_census/model.py:80: RuntimeWarning: divide by zero encountered in log\n",
      "  df['epl_hist'] = np.log(ratio)\n",
      "/ihme/homes/abie/projects/2019/dp_2020_census/dp_2020_census/model.py:83: RuntimeWarning: divide by zero encountered in log\n",
      "  df['epl_cusum'] = np.log(ccusum[1:] / ccusum[:-1])\n"
     ]
    },
    {
     "data": {
      "text/html": [
       "<div>\n",
       "<style scoped>\n",
       "    .dataframe tbody tr th:only-of-type {\n",
       "        vertical-align: middle;\n",
       "    }\n",
       "\n",
       "    .dataframe tbody tr th {\n",
       "        vertical-align: top;\n",
       "    }\n",
       "\n",
       "    .dataframe thead th {\n",
       "        text-align: right;\n",
       "    }\n",
       "</style>\n",
       "<table border=\"1\" class=\"dataframe\">\n",
       "  <thead>\n",
       "    <tr style=\"text-align: right;\">\n",
       "      <th></th>\n",
       "      <th>hist</th>\n",
       "      <th>epl_hist</th>\n",
       "      <th>epl_cusum</th>\n",
       "      <th>smooth_hist</th>\n",
       "      <th>smooth_epl</th>\n",
       "    </tr>\n",
       "  </thead>\n",
       "  <tbody>\n",
       "    <tr>\n",
       "      <th>-273.15</th>\n",
       "      <td>1</td>\n",
       "      <td>inf</td>\n",
       "      <td>0.000000</td>\n",
       "      <td>0.775229</td>\n",
       "      <td>-0.031781</td>\n",
       "    </tr>\n",
       "    <tr>\n",
       "      <th>-272.15</th>\n",
       "      <td>0</td>\n",
       "      <td>NaN</td>\n",
       "      <td>0.000000</td>\n",
       "      <td>0.800262</td>\n",
       "      <td>-0.089639</td>\n",
       "    </tr>\n",
       "    <tr>\n",
       "      <th>-271.15</th>\n",
       "      <td>0</td>\n",
       "      <td>-inf</td>\n",
       "      <td>-0.000715</td>\n",
       "      <td>0.875310</td>\n",
       "      <td>-0.128228</td>\n",
       "    </tr>\n",
       "    <tr>\n",
       "      <th>-270.15</th>\n",
       "      <td>2</td>\n",
       "      <td>0.000000</td>\n",
       "      <td>-0.000716</td>\n",
       "      <td>0.995063</td>\n",
       "      <td>-0.107940</td>\n",
       "    </tr>\n",
       "    <tr>\n",
       "      <th>-269.15</th>\n",
       "      <td>2</td>\n",
       "      <td>inf</td>\n",
       "      <td>0.000000</td>\n",
       "      <td>1.108481</td>\n",
       "      <td>-0.083043</td>\n",
       "    </tr>\n",
       "    <tr>\n",
       "      <th>...</th>\n",
       "      <td>...</td>\n",
       "      <td>...</td>\n",
       "      <td>...</td>\n",
       "      <td>...</td>\n",
       "      <td>...</td>\n",
       "    </tr>\n",
       "    <tr>\n",
       "      <th>267.85</th>\n",
       "      <td>4</td>\n",
       "      <td>0.693147</td>\n",
       "      <td>-0.287682</td>\n",
       "      <td>2.158048</td>\n",
       "      <td>0.015932</td>\n",
       "    </tr>\n",
       "    <tr>\n",
       "      <th>268.85</th>\n",
       "      <td>2</td>\n",
       "      <td>0.000000</td>\n",
       "      <td>-0.405465</td>\n",
       "      <td>2.123939</td>\n",
       "      <td>0.074301</td>\n",
       "    </tr>\n",
       "    <tr>\n",
       "      <th>269.85</th>\n",
       "      <td>2</td>\n",
       "      <td>0.000000</td>\n",
       "      <td>-0.693147</td>\n",
       "      <td>1.971848</td>\n",
       "      <td>0.127436</td>\n",
       "    </tr>\n",
       "    <tr>\n",
       "      <th>270.85</th>\n",
       "      <td>2</td>\n",
       "      <td>0.693147</td>\n",
       "      <td>-0.693147</td>\n",
       "      <td>1.735916</td>\n",
       "      <td>0.151454</td>\n",
       "    </tr>\n",
       "    <tr>\n",
       "      <th>271.85</th>\n",
       "      <td>1</td>\n",
       "      <td>0.000000</td>\n",
       "      <td>-inf</td>\n",
       "      <td>1.491945</td>\n",
       "      <td>0.123284</td>\n",
       "    </tr>\n",
       "  </tbody>\n",
       "</table>\n",
       "<p>546 rows × 5 columns</p>\n",
       "</div>"
      ],
      "text/plain": [
       "         hist  epl_hist  epl_cusum  smooth_hist  smooth_epl\n",
       "-273.15     1       inf   0.000000     0.775229   -0.031781\n",
       "-272.15     0       NaN   0.000000     0.800262   -0.089639\n",
       "-271.15     0      -inf  -0.000715     0.875310   -0.128228\n",
       "-270.15     2  0.000000  -0.000716     0.995063   -0.107940\n",
       "-269.15     2       inf   0.000000     1.108481   -0.083043\n",
       "...       ...       ...        ...          ...         ...\n",
       " 267.85     4  0.693147  -0.287682     2.158048    0.015932\n",
       " 268.85     2  0.000000  -0.405465     2.123939    0.074301\n",
       " 269.85     2  0.000000  -0.693147     1.971848    0.127436\n",
       " 270.85     2  0.693147  -0.693147     1.735916    0.151454\n",
       " 271.85     1  0.000000       -inf     1.491945    0.123284\n",
       "\n",
       "[546 rows x 5 columns]"
      ]
     },
     "execution_count": 11,
     "metadata": {},
     "output_type": "execute_result"
    }
   ],
   "source": [
    "df_epl = dp_2020_census.model.empirical_privacy_loss(error, bandwidth=.01,\n",
    "                                                       est_range_percentile=95, est_range_multiplier=1.0)\n",
    "df_epl"
   ]
  },
  {
   "cell_type": "code",
   "execution_count": 13,
   "metadata": {},
   "outputs": [
    {
     "data": {
      "image/png": "[encoded data removed]",
      "text/plain": [
       "<Figure size 792x216 with 2 Axes>"
      ]
     },
     "metadata": {},
     "output_type": "display_data"
    }
   ],
   "source": [
    "def my_plot(df_epl):\n",
    "    fig, ax = plt.subplots(ncols=2, figsize=(11, 3))\n",
    "    ax[0].plot(df_epl['hist'], linewidth=2)\n",
    "    ax[0].plot(df_epl['smooth_hist'], color='k')\n",
    "    ax[0].set_ylabel('Number of districts')\n",
    "    ax[0].set_xlabel('Error in DP Count (people)')\n",
    "\n",
    "    ax[1].plot(df_epl['epl_hist'], linewidth=2, color='C0', label='Unsmoothed')\n",
    "    ax[1].plot(df_epl['smooth_epl'], color='k', label='Smoothed with KDE')\n",
    "    ax[1].axhline(0, color='k', alpha=.5)\n",
    "\n",
    "    ax[1].legend(loc=(1.1, .1))\n",
    "    ax[1].set_ylabel('Empirical Privacy Loss')\n",
    "    ax[1].set_xlabel('Error in DP Count (people)')\n",
    "    bnd = max(np.absolute(df_epl.smooth_epl))*1.5\n",
    "    ax[1].set_ylim(ymin=-bnd, ymax=bnd)\n",
    "\n",
    "my_plot(df_epl)"
   ]
  },
  {
   "cell_type": "code",
   "execution_count": 14,
   "metadata": {},
   "outputs": [],
   "source": [
    "def sample_down_error(df_orig, sample_frac, stratification_cols):\n",
    "    error = []\n",
    "\n",
    "    for run in '1234':\n",
    "        seed = 12345 + int(run)\n",
    "        df_new = dp_2020_census.data.simulate_sample_down_counts(df_orig, sample_frac, seed)\n",
    "\n",
    "        error_run = dp_2020_census.model.perturbation_error(df_orig, df_new, stratification_cols)\n",
    "        error += list(error_run)\n",
    "    return pd.Series(error)"
   ]
  },
  {
   "cell_type": "code",
   "execution_count": 15,
   "metadata": {},
   "outputs": [],
   "source": [
    "sample_down_frac_str = '0.05 0.10 0.15 0.20 0.25 0.30 0.35 0.40 0.45 0.50 0.55 0.60 0.65 0.70 0.75 0.80 0.85 0.90 0.95'"
   ]
  },
  {
   "cell_type": "code",
   "execution_count": 16,
   "metadata": {
    "scrolled": false
   },
   "outputs": [],
   "source": [
    "def find_sample_down_error(stratification_cols=['state', 'county', 'enum_dist'], result_name='tc_enum_dist'):\n",
    "    results = {}\n",
    "\n",
    "    df_orig = dp_2020_census.data.load_orig_counts()\n",
    "\n",
    "    for frac in sample_down_frac_str.split():\n",
    "        pct_str = f'{float(frac)*100:.0f}pct'\n",
    "        key = f'{result_name}_{pct_str}'\n",
    "        print(key, end=' - ')\n",
    "    \n",
    "        error = sample_down_error(df_orig, float(frac), stratification_cols)\n",
    "\n",
    "        mae = np.median(np.absolute(error))\n",
    "        pct95 = np.quantile(np.absolute(error), 0.95)\n",
    "        max_ae = max(np.absolute(error))\n",
    "        rmse = np.sqrt(np.mean(np.array(error)**2))\n",
    "        \n",
    "        results[f'{key}_mae'] = f'{mae:.0f}'\n",
    "        results[f'{key}_pct95'] = f'{pct95:.0f}'\n",
    "        results[f'{key}_max_ae'] = f'{max_ae:.0f}'\n",
    "        results[f'{key}_rmse'] = f'{rmse:.0f}'\n",
    "        \n",
    "        print(np.round(np.mean(error),2), np.round(mae,2),\n",
    "              np.round(rmse, 2), np.round(pct95,1),\n",
    "              max_ae)\n",
    "\n",
    "    return results"
   ]
  },
  {
   "cell_type": "code",
   "execution_count": 17,
   "metadata": {},
   "outputs": [
    {
     "name": "stdout",
     "output_type": "stream",
     "text": [
      "tc_county_5pct - -0.0 388.0 915.5 1642.0 12372.0\n",
      "tc_county_10pct - 0.0 272.0 614.45 1097.0 6707.0\n",
      "tc_county_15pct - 0.0 207.0 472.69 856.0 4317.333333332092\n",
      "tc_county_20pct - -0.0 181.0 389.72 749.0 3665.0\n",
      "tc_county_25pct - 0.0 155.0 348.99 621.0 3799.0\n",
      "tc_county_30pct - 0.0 134.67 322.74 562.3 3653.9999999897555\n",
      "tc_county_35pct - -0.0 120.14 276.0 516.7 2925.7142857281724\n",
      "tc_county_40pct - -0.0 108.0 248.6 458.5 3552.0\n",
      "tc_county_45pct - 0.0 97.44 222.66 410.4 3169.333333408693\n",
      "tc_county_50pct - 0.0 90.0 192.41 373.0 2352.0\n",
      "tc_county_55pct - -0.0 80.18 172.55 333.8 2123.2727272966877\n",
      "tc_county_60pct - 0.0 62.19 142.44 262.5 1607.0769230502192\n",
      "tc_county_70pct - -0.0 58.0 129.31 239.4 1495.4285714570433\n",
      "tc_county_75pct - -0.0 50.33 110.66 204.3 1408.0000000065193\n",
      "tc_county_80pct - 0.0 45.25 99.73 184.0 999.25\n",
      "tc_county_85pct - -0.0 37.47 85.62 155.9 902.823529384099\n",
      "tc_county_90pct - -0.0 29.56 69.47 120.7 829.7777778720483\n",
      "tc_county_95pct - 0.0 20.42 46.97 83.0 465.1578947317321\n",
      "CPU times: user 59min 59s, sys: 15min 55s, total: 1h 15min 55s\n",
      "Wall time: 1h 15min 50s\n"
     ]
    },
    {
     "data": {
      "text/plain": [
       "{'tc_county_5pct_mae': '388',\n",
       " 'tc_county_5pct_pct95': '1642',\n",
       " 'tc_county_5pct_max_ae': '12372',\n",
       " 'tc_county_5pct_rmse': '915',\n",
       " 'tc_county_10pct_mae': '272',\n",
       " 'tc_county_10pct_pct95': '1097',\n",
       " 'tc_county_10pct_max_ae': '6707',\n",
       " 'tc_county_10pct_rmse': '614',\n",
       " 'tc_county_15pct_mae': '207',\n",
       " 'tc_county_15pct_pct95': '856',\n",
       " 'tc_county_15pct_max_ae': '4317',\n",
       " 'tc_county_15pct_rmse': '473',\n",
       " 'tc_county_20pct_mae': '181',\n",
       " 'tc_county_20pct_pct95': '749',\n",
       " 'tc_county_20pct_max_ae': '3665',\n",
       " 'tc_county_20pct_rmse': '390',\n",
       " 'tc_county_25pct_mae': '155',\n",
       " 'tc_county_25pct_pct95': '621',\n",
       " 'tc_county_25pct_max_ae': '3799',\n",
       " 'tc_county_25pct_rmse': '349',\n",
       " 'tc_county_30pct_mae': '135',\n",
       " 'tc_county_30pct_pct95': '562',\n",
       " 'tc_county_30pct_max_ae': '3654',\n",
       " 'tc_county_30pct_rmse': '323',\n",
       " 'tc_county_35pct_mae': '120',\n",
       " 'tc_county_35pct_pct95': '517',\n",
       " 'tc_county_35pct_max_ae': '2926',\n",
       " 'tc_county_35pct_rmse': '276',\n",
       " 'tc_county_40pct_mae': '108',\n",
       " 'tc_county_40pct_pct95': '458',\n",
       " 'tc_county_40pct_max_ae': '3552',\n",
       " 'tc_county_40pct_rmse': '249',\n",
       " 'tc_county_45pct_mae': '97',\n",
       " 'tc_county_45pct_pct95': '410',\n",
       " 'tc_county_45pct_max_ae': '3169',\n",
       " 'tc_county_45pct_rmse': '223',\n",
       " 'tc_county_50pct_mae': '90',\n",
       " 'tc_county_50pct_pct95': '373',\n",
       " 'tc_county_50pct_max_ae': '2352',\n",
       " 'tc_county_50pct_rmse': '192',\n",
       " 'tc_county_55pct_mae': '80',\n",
       " 'tc_county_55pct_pct95': '334',\n",
       " 'tc_county_55pct_max_ae': '2123',\n",
       " 'tc_county_55pct_rmse': '173',\n",
       " 'tc_county_60pct_mae': '70',\n",
       " 'tc_county_60pct_pct95': '304',\n",
       " 'tc_county_60pct_max_ae': '1513',\n",
       " 'tc_county_60pct_rmse': '160',\n",
       " 'tc_county_65pct_mae': '62',\n",
       " 'tc_county_65pct_pct95': '262',\n",
       " 'tc_county_65pct_max_ae': '1607',\n",
       " 'tc_county_65pct_rmse': '142',\n",
       " 'tc_county_70pct_mae': '58',\n",
       " 'tc_county_70pct_pct95': '239',\n",
       " 'tc_county_70pct_max_ae': '1495',\n",
       " 'tc_county_70pct_rmse': '129',\n",
       " 'tc_county_75pct_mae': '50',\n",
       " 'tc_county_75pct_pct95': '204',\n",
       " 'tc_county_75pct_max_ae': '1408',\n",
       " 'tc_county_75pct_rmse': '111',\n",
       " 'tc_county_80pct_mae': '45',\n",
       " 'tc_county_80pct_pct95': '184',\n",
       " 'tc_county_80pct_max_ae': '999',\n",
       " 'tc_county_80pct_rmse': '100',\n",
       " 'tc_county_85pct_mae': '37',\n",
       " 'tc_county_85pct_pct95': '156',\n",
       " 'tc_county_85pct_max_ae': '903',\n",
       " 'tc_county_85pct_rmse': '86',\n",
       " 'tc_county_90pct_mae': '30',\n",
       " 'tc_county_90pct_pct95': '121',\n",
       " 'tc_county_90pct_max_ae': '830',\n",
       " 'tc_county_90pct_rmse': '69',\n",
       " 'tc_county_95pct_mae': '20',\n",
       " 'tc_county_95pct_pct95': '83',\n",
       " 'tc_county_95pct_max_ae': '465',\n",
       " 'tc_county_95pct_rmse': '47'}"
      ]
     },
     "execution_count": 17,
     "metadata": {},
     "output_type": "execute_result"
    }
   ],
   "source": [
    "%%time\n",
    "find_sample_down_error(['state', 'county'], 'tc_county')"
   ]
  },
  {
   "cell_type": "code",
   "execution_count": null,
   "metadata": {
    "scrolled": true
   },
   "outputs": [
    {
     "name": "stdout",
     "output_type": "stream",
     "text": [
      "tc_state_5pct - -0.12 3883.0 7860.44 16602.0 34244.0\n",
      "tc_state_10pct - 0.08 2586.0 4868.67 9359.0 20824.0\n",
      "tc_state_15pct - 0.01 1383.33 3827.68 6573.3 16968.666666440666\n",
      "tc_state_20pct - -0.02 1201.0 3531.01 10339.0 11534.0\n",
      "tc_state_25pct - 0.04 1283.0 2564.65 5282.0 10315.0\n",
      "tc_state_30pct - 0.01 1102.67 2281.18 4968.7 8918.999999692664\n",
      "tc_state_35pct - -0.01 763.71 2089.64 3442.0 10293.285714939237\n",
      "tc_state_40pct - -0.02 660.0 1595.43 3496.5 4803.5\n",
      "tc_state_45pct - 0.01 643.44 1611.17 4267.7 4910.444446224719\n",
      "tc_state_50pct - 0.0 932.0 1686.53 4608.0 5081.0\n",
      "tc_state_55pct - -0.01 645.45 1125.94 2322.4 4244.454546098597\n",
      "tc_state_60pct - 0.01 475.67 1121.52 2377.3 4252.333333572373\n",
      "tc_state_65pct - 0.0 422.08 948.93 2256.2 4095.9230761909857\n",
      "tc_state_70pct - -0.01 413.29 961.31 1711.1 3938.000000707805\n",
      "tc_state_75pct - -0.01 390.33 786.32 1847.0 2170.0000000800937\n",
      "tc_state_80pct - -0.0 273.29 584.07 1196.2 1834.2941177254543\n",
      "tc_state_90pct - -0.01 285.11 508.54 1061.9 1446.7777767637745\n",
      "tc_state_95pct - -0.0 388.0 915.5 1642.0 12372.0\n",
      "tc_county_10pct - 0.0 272.0 614.45 1097.0 6707.0\n",
      "tc_county_15pct - 0.0 207.0 472.69 856.0 4317.333333332092\n",
      "tc_county_20pct - -0.0 181.0 389.72 749.0 3665.0\n",
      "tc_county_25pct - 0.0 155.0 348.99 621.0 3799.0\n",
      "tc_county_30pct - 0.0 134.67 322.74 562.3 3653.9999999897555\n",
      "tc_county_35pct - -0.0 120.14 276.0 516.7 2925.7142857281724\n",
      "tc_county_40pct - -0.0 108.0 248.6 458.5 3552.0\n",
      "tc_county_45pct - 0.0 97.44 222.66 410.4 3169.333333408693\n",
      "tc_county_50pct - 0.0 90.0 192.41 373.0 2352.0\n",
      "tc_county_55pct - -0.0 80.18 172.55 333.8 2123.2727272966877\n",
      "tc_county_60pct - 0.0 70.33 160.41 304.3 1513.0000000451691\n",
      "tc_county_65pct - 0.0 62.19 142.44 262.5 1607.0769230502192\n",
      "tc_county_70pct - -0.0 58.0 129.31 239.4 1495.4285714570433\n",
      "tc_county_75pct - -0.0 50.33 110.66 204.3 1408.0000000065193\n",
      "tc_county_80pct - 0.0 45.25 99.73 184.0 999.25\n",
      "tc_county_85pct - -0.0 37.47 85.62 155.9 902.823529384099\n",
      "tc_county_90pct - -0.0 29.56 69.47 120.7 829.7777778720483\n",
      "tc_county_95pct - 0.0 20.42 46.97 83.0 465.1578947317321\n",
      "tc_enum_dist_5pct - -0.0 74.0 136.3 282.0 1046.0\n",
      "tc_enum_dist_10pct - 0.0 51.0 93.69 194.0 623.0\n",
      "tc_enum_dist_15pct - 0.0 40.67 74.39 154.0 588.6666666666324\n",
      "tc_enum_dist_20pct - -0.0 34.0 62.39 129.0 425.0\n",
      "tc_enum_dist_25pct - 0.0 30.0 54.17 112.0 399.0\n",
      "tc_enum_dist_30pct - 0.0 26.0 47.9 99.3 365.9999999999909\n",
      "tc_enum_dist_35pct - -0.0 23.43 42.82 88.7 330.4285714286643\n",
      "tc_enum_dist_40pct - -0.0 21.0 38.37 79.5 276.5\n",
      "tc_enum_dist_45pct - 0.0 19.0 34.74 72.1 296.77777777787196\n",
      "tc_enum_dist_50pct - 0.0 17.0 31.39 65.0 273.0\n",
      "tc_enum_dist_55pct - -0.0 15.55 28.44 59.3 226.27272727258242\n",
      "tc_enum_dist_60pct - 0.0 14.0 25.7 53.3 187.3333333334558\n",
      "tc_enum_dist_65pct - 0.0 12.62 23.07 47.8 180.53846153866198\n",
      "tc_enum_dist_70pct - -0.0 11.29 20.54 42.6 147.57142857133658\n",
      "tc_enum_dist_75pct - -0.0 10.0 18.04 37.3 141.66666666681522\n",
      "tc_enum_dist_80pct - 0.0 8.5 15.64 32.5 125.0\n",
      "tc_enum_dist_85pct - -0.0 7.18 13.16 27.3 113.64705882350563\n",
      "tc_enum_dist_90pct - -0.0 5.67 10.43 21.6 110.11111110949787\n",
      "tc_enum_dist_95pct - 0.0 3.95 7.18 14.9 61.42105263140547\n",
      "sc_state_5pct - -0.01 41.0 1637.52 2767.0 18767.0\n",
      "sc_state_10pct - 0.0 28.0 1011.52 1858.0 10476.0\n",
      "sc_state_15pct - 0.0 22.67 720.14 1127.3 11300.333333314396\n",
      "sc_state_20pct - -0.0 19.0 690.27 1144.0 6137.0\n",
      "sc_state_25pct - 0.0 16.0 568.45 1041.0 5119.0\n",
      "sc_state_30pct - 0.0 14.0 511.5 872.3 5229.000000005588\n",
      "sc_state_35pct - -0.0 12.57 427.72 667.7 5887.571428610943\n",
      "sc_state_40pct - -0.0 11.5 364.29 704.5 4725.0\n",
      "sc_state_45pct - 0.0 10.11 321.97 611.4 4648.888888716232\n",
      "sc_state_50pct - 0.0 9.0 316.94 591.0 3772.0\n",
      "sc_state_55pct - -0.0 7.82 266.45 514.0 3193.0909089669585\n",
      "sc_state_60pct - 0.0 7.67 249.74 501.3 2850.6666666883975\n",
      "sc_state_65pct - 0.0 6.77 229.15 447.1 3006.6923077162355\n",
      "sc_state_70pct - -0.0 6.43 230.83 354.0 2882.571428642608\n",
      "sc_state_75pct - -0.0 5.33 191.27 334.3 2166.6666666716337\n",
      "sc_state_80pct - 0.0 5.0 194.77 306.0 3046.25\n",
      "sc_state_85pct - -0.0 4.03 141.46 309.9 1704.705882223323\n",
      "sc_state_90pct - -0.0 3.0 105.1 203.9 1019.5555557580665\n",
      "sc_state_95pct - 0.0 2.26 63.89 128.1 517.6842105705291\n",
      "sc_county_5pct - -0.0 19.0 305.86 569.0 7195.0\n",
      "sc_county_10pct - 0.0 14.0 209.85 395.0 6644.0\n",
      "sc_county_15pct - 0.0 11.0 164.34 311.0 4737.333333331044\n",
      "sc_county_20pct - -0.0 9.0 139.14 264.0 4534.0\n",
      "sc_county_25pct - 0.0 8.0 120.62 224.0 3894.0\n",
      "sc_county_30pct - 0.0 7.0 107.95 200.0 3999.333333333954\n",
      "sc_county_35pct - -0.0 6.29 92.42 178.0 1852.5714285804424\n",
      "sc_county_40pct - -0.0 5.5 82.84 157.5 1779.0\n",
      "sc_county_45pct - 0.0 5.0 73.97 142.2 1988.9999999995343\n",
      "sc_county_50pct - 0.0 5.0 65.5 129.0 1199.0\n",
      "sc_county_55pct - -0.0 4.18 59.35 115.6 1410.818181822775\n",
      "sc_county_60pct - 0.0 3.67 54.81 104.7 968.3333333327319\n",
      "sc_county_65pct - 0.0 3.38 49.31 94.4 1064.6923076909734\n",
      "sc_county_70pct - -0.0 3.0 44.67 84.7 1139.714285711234\n",
      "sc_county_75pct - -0.0 2.67 38.46 74.7 858.3333333329647\n",
      "sc_county_80pct - 0.0 2.25 34.6 65.2 968.5\n",
      "sc_county_85pct - -0.0 1.94 29.9 54.5 1167.176470596576\n",
      "sc_county_90pct - -0.0 1.56 23.52 42.9 638.22222213028\n",
      "sc_county_95pct - 0.0 1.0 16.12 30.1 390.2631579050794\n",
      "sc_enum_dist_5pct - -0.0 18.0 68.38 153.0 924.0\n",
      "sc_enum_dist_10pct - 0.0 12.0 46.94 105.0 672.0\n",
      "sc_enum_dist_15pct - 0.0 10.0 37.24 83.0 601.9999999999654\n",
      "sc_enum_dist_20pct - -0.0 8.0 31.24 70.0 397.0\n",
      "sc_enum_dist_25pct - 0.0 7.0 27.12 61.0 393.0\n",
      "sc_enum_dist_30pct - 0.0 6.33 23.95 53.3 307.6666666666215\n",
      "sc_enum_dist_35pct - -0.0 5.57 21.39 47.9 273.42857142846424\n",
      "sc_enum_dist_40pct - -0.0 5.0 19.23 43.0 236.5\n",
      "sc_enum_dist_45pct - 0.0 4.56 17.36 38.8 222.33333333329665\n",
      "sc_enum_dist_50pct - 0.0 4.0 15.68 35.0 215.0\n",
      "sc_enum_dist_55pct - -0.0 3.73 14.19 31.6 178.09090909086717\n",
      "sc_enum_dist_60pct - 0.0 3.33 12.82 28.7 174.33333333325936\n",
      "sc_enum_dist_65pct - 0.0 3.0 11.52 25.8 142.8461538462766\n",
      "sc_enum_dist_70pct - -0.0 2.71 10.26 23.0 119.57142857118743\n",
      "sc_enum_dist_75pct - -0.0 2.33 9.02 20.0 120.33333333343944\n",
      "sc_enum_dist_80pct - 0.0 2.0 7.81 17.5 106.0\n",
      "sc_enum_dist_85pct - -0.0 1.76 6.58 14.6 93.23529411831623\n",
      "sc_enum_dist_90pct - -0.0 1.33 5.22 11.7 102.77777777615484\n",
      "sc_enum_dist_95pct - "
     ]
    }
   ],
   "source": [
    "%%time\n",
    "\n",
    "results = {}\n",
    "\n",
    "results.update(find_sample_down_error(['state'], 'tc_state'))\n",
    "results.update(find_sample_down_error(['state', 'county'], 'tc_county'))\n",
    "results.update(find_sample_down_error(['state', 'county', 'enum_dist'], 'tc_enum_dist'))\n",
    "\n",
    "results.update(find_sample_down_error(['state', 'age', 'race', 'eth'], 'sc_state'))\n",
    "results.update(find_sample_down_error(['state', 'county', 'age', 'race', 'eth'], 'sc_county'))\n",
    "results.update(find_sample_down_error(['state', 'county', 'enum_dist', 'age', 'race', 'eth'], 'sc_enum_dist'))\n",
    "\n",
    "len(results)"
   ]
  },
  {
   "cell_type": "code",
   "execution_count": null,
   "metadata": {},
   "outputs": [],
   "source": [
    "import json\n",
    "with open('/ihme/homes/abie/projects/2019/dp_2020_census/results_sd_error.json', 'w') as f:\n",
    "    json.dump(results, f, indent=4)"
   ]
  },
  {
   "cell_type": "code",
   "execution_count": null,
   "metadata": {},
   "outputs": [],
   "source": [
    "results['tc_enum_dist_50pct_mae']"
   ]
  },
  {
   "cell_type": "markdown",
   "metadata": {},
   "source": [
    "# Now calculate the empirical privacy loss"
   ]
  },
  {
   "cell_type": "code",
   "execution_count": null,
   "metadata": {},
   "outputs": [],
   "source": [
    "def find_sample_down_epl(stratification_cols=['state', 'county', 'enum_dist'],\n",
    "                         result_name='tc_privacy_loss_enum_dist'):\n",
    "    results = {}\n",
    "\n",
    "    df_orig = dp_2020_census.data.load_orig_counts()\n",
    "\n",
    "\n",
    "    for frac in sample_down_frac_str.split():\n",
    "        pct_str = f'{float(frac)*100:.0f}pct'\n",
    "        key = f'{result_name}_{pct_str}'\n",
    "        print(key, end=' - ')\n",
    "    \n",
    "        error = sample_down_error(df_orig, float(frac), stratification_cols)\n",
    "        \n",
    "        df_epl = dp_2020_census.model.empirical_privacy_loss(error, bandwidth=.01,\n",
    "                                                       est_range_percentile=95, est_range_multiplier=1.0)\n",
    "        max_abs = max(np.absolute(df_epl.smooth_epl))\n",
    "\n",
    "        results[f'{key}_max_abs'] = f'{max_abs:.3f}'\n",
    "        \n",
    "        print(results[f'{key}_max_abs'])\n",
    "\n",
    "    return results\n",
    "# find_sample_down_epl(['state',], 'tc_privacy_loss_state')"
   ]
  },
  {
   "cell_type": "code",
   "execution_count": null,
   "metadata": {
    "scrolled": true
   },
   "outputs": [],
   "source": [
    "%%time\n",
    "\n",
    "results = {}\n",
    "\n",
    "results.update(find_sample_down_epl(['state'], 'tc_state'))\n",
    "results.update(find_sample_down_epl(['state', 'county'], 'tc_privacy_loss_county'))\n",
    "results.update(find_sample_down_epl(['state', 'county', 'enum_dist'], 'tc_privacy_loss_enum_dist'))\n",
    "\n",
    "results.update(find_sample_down_epl(['state', 'age', 'race', 'eth'], 'sc_privacy_loss_state'))\n",
    "results.update(find_sample_down_epl(['state', 'county', 'age', 'race', 'eth'], 'sc_privacy_loss_county'))\n",
    "results.update(find_sample_down_epl(['state', 'county', 'enum_dist', 'age', 'race', 'eth'],\n",
    "                           'sc_privacy_loss_enum_dist'))\n",
    "\n",
    "with open('/ihme/homes/abie/projects/2019/dp_2020_census/results_sd_epl.json', 'w') as f:\n",
    "    json.dump(results, f, indent=4)"
   ]
  },
  {
   "cell_type": "code",
   "execution_count": null,
   "metadata": {},
   "outputs": [],
   "source": [
    "frac = '0.05'\n",
    "stratification_cols = ['state', 'county', 'enum_dist', 'age', 'race', 'eth']\n",
    "\n",
    "error = sample_down_error(df_orig, float(frac), stratification_cols)\n",
    "df_epl = dp_2020_census.model.empirical_privacy_loss(error, bandwidth=.01,\n",
    "                                                       est_range_percentile=95, est_range_multiplier=2.0)\n",
    "\n",
    "my_plot(df_epl)"
   ]
  },
  {
   "cell_type": "code",
   "execution_count": null,
   "metadata": {},
   "outputs": [],
   "source": []
  },
  {
   "cell_type": "code",
   "execution_count": null,
   "metadata": {},
   "outputs": [],
   "source": []
  },
  {
   "cell_type": "code",
   "execution_count": null,
   "metadata": {},
   "outputs": [],
   "source": []
  },
  {
   "cell_type": "code",
   "execution_count": null,
   "metadata": {},
   "outputs": [],
   "source": []
  },
  {
   "cell_type": "code",
   "execution_count": null,
   "metadata": {},
   "outputs": [],
   "source": []
  },
  {
   "cell_type": "code",
   "execution_count": null,
   "metadata": {},
   "outputs": [],
   "source": []
  }
 ],
 "metadata": {
  "kernelspec": {
   "display_name": "dismod_mr",
   "language": "python",
   "name": "dismod_mr"
  },
  "language_info": {
   "codemirror_mode": {
    "name": "ipython",
    "version": 3
   },
   "file_extension": ".py",
   "mimetype": "text/x-python",
   "name": "python",
   "nbconvert_exporter": "python",
   "pygments_lexer": "ipython3",
   "version": "3.6.8"
  }
 },
 "nbformat": 4,
 "nbformat_minor": 2
}
